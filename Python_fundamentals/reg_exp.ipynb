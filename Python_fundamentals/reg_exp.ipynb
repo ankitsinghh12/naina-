{
 "cells": [
  {
   "cell_type": "markdown",
   "id": "9613742d",
   "metadata": {},
   "source": [
    "# re.findall()\n"
   ]
  },
  {
   "cell_type": "code",
   "execution_count": 2,
   "id": "db1cc930",
   "metadata": {},
   "outputs": [
    {
     "name": "stdout",
     "output_type": "stream",
     "text": [
      "['0', '3', '7']\n"
     ]
    }
   ],
   "source": [
    "# find all matches and returns a list\n",
    "\n",
    "import re \n",
    "\n",
    "lst = re.findall('[0-9]', '0@msdn3nr7')\n",
    "\n",
    "print(lst)  "
   ]
  },
  {
   "cell_type": "code",
   "execution_count": 4,
   "id": "2a868150",
   "metadata": {},
   "outputs": [
    {
     "name": "stdout",
     "output_type": "stream",
     "text": [
      "<callable_iterator object at 0x0000016C88393C10>\n",
      "0\n",
      "4\n",
      "5\n",
      "2\n"
     ]
    }
   ],
   "source": [
    "matcher = re.finditer ('[0-9]', '0di4kj5m2')\n",
    "\n",
    "print(matcher)\n",
    "\n",
    "for m in matcher:\n",
    "    print(m.group())"
   ]
  },
  {
   "cell_type": "code",
   "execution_count": 6,
   "id": "99390b77",
   "metadata": {},
   "outputs": [
    {
     "name": "stdout",
     "output_type": "stream",
     "text": [
      "{'2', '4', '3'}\n"
     ]
    }
   ],
   "source": [
    "lst = re.findall('\\d', 'asd dhddh dhdhd enjjdj dnddh33223 334 223 223 234 234')\n",
    "print(set(lst))"
   ]
  },
  {
   "cell_type": "markdown",
   "id": "27189906",
   "metadata": {},
   "source": [
    "# Search and Replace "
   ]
  },
  {
   "cell_type": "code",
   "execution_count": 7,
   "id": "042c4a12",
   "metadata": {},
   "outputs": [
    {
     "name": "stdout",
     "output_type": "stream",
     "text": [
      "a#n#jn#nj#k\n"
     ]
    }
   ],
   "source": [
    "# re.sub(pattern, replacement, targetString)\n",
    "\n",
    "import re \n",
    "\n",
    "s = re.sub('\\d', '#', 'a2n3jn4nj2k')\n",
    "\n",
    "print(s)"
   ]
  },
  {
   "cell_type": "code",
   "execution_count": 15,
   "id": "b85480f8",
   "metadata": {},
   "outputs": [
    {
     "name": "stdout",
     "output_type": "stream",
     "text": [
      "Phone num:  1233-123-345 # This is a phone\n",
      "Phone num:  1233-123-34\n",
      "Phone num:  1233123345\n"
     ]
    }
   ],
   "source": [
    "#re.sub(regax, replacement, targetString)\n",
    "\n",
    "import re \n",
    "\n",
    "phone = '1233-123-345 # This is a phone'\n",
    "print('Phone num: ', phone)\n",
    "\n",
    "num = re.sub('5.*$', '', phone)\n",
    "print('Phone num: ', num)\n",
    "\n",
    "num = re.sub('\\D', '', phone)\n",
    "print('Phone num: ', num)"
   ]
  },
  {
   "cell_type": "markdown",
   "id": "9a9515cb",
   "metadata": {},
   "source": [
    "# re.split()"
   ]
  },
  {
   "cell_type": "code",
   "execution_count": 16,
   "id": "040ff294",
   "metadata": {},
   "outputs": [
    {
     "name": "stdout",
     "output_type": "stream",
     "text": [
      "['I', 'Learn', 'Python', 'Regex']\n"
     ]
    }
   ],
   "source": [
    "import re \n",
    "\n",
    "l = re.split('-', 'I-Learn-Python-Regex')\n",
    "print(l)"
   ]
  },
  {
   "cell_type": "code",
   "execution_count": 18,
   "id": "0de65d50",
   "metadata": {},
   "outputs": [
    {
     "name": "stdout",
     "output_type": "stream",
     "text": [
      "['abcdefg', 'gmail', 'com']\n"
     ]
    }
   ],
   "source": [
    "import re \n",
    "l = re.split('\\W','abcdefg@gmail.com')\n",
    "print(l)"
   ]
  },
  {
   "cell_type": "code",
   "execution_count": 19,
   "id": "5f9248de",
   "metadata": {},
   "outputs": [
    {
     "name": "stdout",
     "output_type": "stream",
     "text": [
      "['www', 'facebook', 'com']\n"
     ]
    }
   ],
   "source": [
    "import re \n",
    "l = re.split('[.]','www.facebook.com')\n",
    "print(l)"
   ]
  },
  {
   "cell_type": "markdown",
   "id": "683d6f17",
   "metadata": {},
   "source": [
    "# Step by Step creating RegEx"
   ]
  },
  {
   "cell_type": "markdown",
   "id": "391ce4a6",
   "metadata": {},
   "source": [
    "### STEP - 1: Create pattern object "
   ]
  },
  {
   "cell_type": "code",
   "execution_count": 1,
   "id": "e7b46ded",
   "metadata": {},
   "outputs": [
    {
     "name": "stdout",
     "output_type": "stream",
     "text": [
      "<class 're.Pattern'>\n"
     ]
    }
   ],
   "source": [
    "# compile() -> convert the pattern into regex object\n",
    "\n",
    "import re\n",
    "\n",
    "pattern = re.compile('Python')\n",
    "\n",
    "print(type(pattern))"
   ]
  },
  {
   "cell_type": "markdown",
   "id": "cbcbb4ff",
   "metadata": {},
   "source": [
    "### STEP-2 : Create Matcher object"
   ]
  },
  {
   "cell_type": "code",
   "execution_count": 2,
   "id": "fef13da1",
   "metadata": {},
   "outputs": [
    {
     "name": "stdout",
     "output_type": "stream",
     "text": [
      "<class 'callable_iterator'>\n"
     ]
    }
   ],
   "source": [
    "# finditer() -> we can check how many matcher are available\n",
    "\n",
    "matcher = pattern.finditer('I Python am learning python Regex in Python!')\n",
    "\n",
    "print(type(matcher))"
   ]
  },
  {
   "cell_type": "markdown",
   "id": "0848e52e",
   "metadata": {},
   "source": [
    "### STEP-3 : Iterate over the Matcher"
   ]
  },
  {
   "cell_type": "code",
   "execution_count": 4,
   "id": "85703309",
   "metadata": {},
   "outputs": [
    {
     "name": "stdout",
     "output_type": "stream",
     "text": [
      "<class 're.Match'>\n",
      "Match is at:2, End:8, Pattern found: Python\n",
      "<class 're.Match'>\n",
      "Match is at:37, End:43, Pattern found: Python\n",
      "DONE!!\n"
     ]
    }
   ],
   "source": [
    "# start() -> starting index of matched string\n",
    "# end() -> end+1 index\n",
    "# group() -> returns matched sring\n",
    "\n",
    "for m in matcher:\n",
    "    print(type(m))\n",
    "    print('Match is at:{}, End:{}, Pattern found: {}'.\n",
    "          format(m.start(), m.end(), m.group()))\n",
    "print('DONE!!')"
   ]
  },
  {
   "cell_type": "markdown",
   "id": "a984f892",
   "metadata": {},
   "source": [
    "# Using Various Combinations"
   ]
  },
  {
   "cell_type": "code",
   "execution_count": 5,
   "id": "97e8dd2b",
   "metadata": {},
   "outputs": [
    {
     "name": "stdout",
     "output_type": "stream",
     "text": [
      "ab 0 2\n",
      "ab 3 5\n",
      "ab 5 7\n"
     ]
    }
   ],
   "source": [
    "# Pattern = 'ab'\n",
    "# Target = 'abaababa'\n",
    "# Way = 1 \n",
    "\n",
    "import re\n",
    "\n",
    "pattern = re.compile('ab')\n",
    "\n",
    "matcher = pattern.finditer('abaababa')\n",
    "\n",
    "for m in matcher:\n",
    "    print(m.group(),m.start(),m.end())"
   ]
  },
  {
   "cell_type": "code",
   "execution_count": 7,
   "id": "b5e1e040",
   "metadata": {},
   "outputs": [
    {
     "name": "stdout",
     "output_type": "stream",
     "text": [
      "ab 0 2\n",
      "ab 3 5\n",
      "ab 5 7\n"
     ]
    }
   ],
   "source": [
    "# Way = 2\n",
    "\n",
    "import re \n",
    "\n",
    "matcher = re.compile('ab').finditer('abaababa')\n",
    "\n",
    "for m in matcher:\n",
    "    print(m.group(),m.start(),m.end())"
   ]
  },
  {
   "cell_type": "code",
   "execution_count": 8,
   "id": "ba6b7c3a",
   "metadata": {},
   "outputs": [
    {
     "name": "stdout",
     "output_type": "stream",
     "text": [
      "ab 0 2\n",
      "ab 3 5\n",
      "ab 5 7\n"
     ]
    }
   ],
   "source": [
    "# Way = 3\n",
    "\n",
    "import re \n",
    "\n",
    "matcher = re.finditer('ab','abaababa')\n",
    "\n",
    "for m in matcher:\n",
    "    print(m.group(),m.start(),m.end())"
   ]
  },
  {
   "cell_type": "code",
   "execution_count": 9,
   "id": "8a119c07",
   "metadata": {},
   "outputs": [
    {
     "name": "stdout",
     "output_type": "stream",
     "text": [
      "aaaaa 0 5\n",
      "aaa 11 14\n",
      "aa 21 23\n",
      "a 30 31\n"
     ]
    }
   ],
   "source": [
    "# re.finditer(pattern, target)\n",
    "\n",
    "import re \n",
    "\n",
    "matcher = re.finditer('a+','aaaaabbcdegaaabdfgfdgaabjukilua')\n",
    "\n",
    "for m in matcher:\n",
    "    print(m.group(),m.start(),m.end())"
   ]
  },
  {
   "cell_type": "code",
   "execution_count": 11,
   "id": "5fe8a1fb",
   "metadata": {},
   "outputs": [
    {
     "name": "stdout",
     "output_type": "stream",
     "text": [
      "Match is at:0,End:2,Patter found: ab\n",
      "Match is at:3,End:5,Patter found: ab\n",
      "Match is at:5,End:7,Patter found: ab\n",
      "Total count:  3\n"
     ]
    }
   ],
   "source": [
    "import re \n",
    "\n",
    "matcher = re.finditer('ab','abaababa')\n",
    "\n",
    "count = 0\n",
    "\n",
    "for m in matcher:\n",
    "    count +=1\n",
    "    print('Match is at:{},End:{},Patter found: {}'.format(m.start(),m.end(),m.group()))\n",
    "print('Total count: ',count)    "
   ]
  },
  {
   "cell_type": "code",
   "execution_count": 15,
   "id": "d91c1cf9",
   "metadata": {},
   "outputs": [
    {
     "name": "stdout",
     "output_type": "stream",
     "text": [
      "Match is at:1,End:3, Pattern found: ba\n",
      "Match is at:4,End:6, Pattern found: ba\n",
      "Match is at:6,End:8, Pattern found: ba\n",
      "Total count:  1\n"
     ]
    }
   ],
   "source": [
    "matcher = re.finditer('ba','abaababa')\n",
    "\n",
    "count = 0\n",
    "\n",
    "for m in matcher :\n",
    "    count = +1\n",
    "    print('Match is at:{},End:{}, Pattern found: {}'. format(m.start(), m.end(), m.group()))\n",
    "print('Total count: ', count)\n"
   ]
  },
  {
   "cell_type": "code",
   "execution_count": 17,
   "id": "f7748da6",
   "metadata": {},
   "outputs": [
    {
     "name": "stdout",
     "output_type": "stream",
     "text": [
      "<class 'list'>\n",
      "<class 'int'>\n",
      "<class 'float'>\n",
      "<class 'str'>\n",
      "<class 'bool'>\n"
     ]
    }
   ],
   "source": [
    "lst = [1,2.0,'3',True]\n",
    "print(type(lst))\n",
    "\n",
    "for i in lst:\n",
    "    print(type(i))"
   ]
  },
  {
   "cell_type": "code",
   "execution_count": 18,
   "id": "dd5917a2",
   "metadata": {},
   "outputs": [
    {
     "name": "stdout",
     "output_type": "stream",
     "text": [
      "<class 'callable_iterator'>\n",
      "an 1 3\n",
      "<class 're.Match'>\n",
      "an 7 9\n",
      "<class 're.Match'>\n"
     ]
    }
   ],
   "source": [
    "matcher = re.finditer('an','Kanav Bansal')\n",
    "print(type(matcher))\n",
    "for m in matcher:\n",
    "    print(m.group(),m.start(),m.end())\n",
    "    print(type(m))"
   ]
  },
  {
   "cell_type": "code",
   "execution_count": 19,
   "id": "c23a2fb5",
   "metadata": {},
   "outputs": [
    {
     "name": "stdout",
     "output_type": "stream",
     "text": [
      "Match is at:0, End:1, Pattern founf: a\n",
      "Match is at:2, End:3, Pattern founf: b\n",
      "Total count:  2\n"
     ]
    }
   ],
   "source": [
    "matcher = re.finditer('[abc]','a7b@ k9z')\n",
    "\n",
    "count = 0\n",
    "\n",
    "for m in matcher:\n",
    "    count += 1\n",
    "    print('Match is at:{}, End:{}, Pattern founf: {}'.format(m.start(), m.end(), m.group()))\n",
    "print('Total count: ', count)    "
   ]
  },
  {
   "cell_type": "code",
   "execution_count": 25,
   "id": "ed35cdfd",
   "metadata": {},
   "outputs": [
    {
     "name": "stdout",
     "output_type": "stream",
     "text": [
      "Match is at:7, End: 1, Pattern found:2\n",
      "Match is at:@, End: 3, Pattern found:4\n",
      "Match is at: , End: 4, Pattern found:5\n",
      "Match is at:9, End: 6, Pattern found:7\n",
      "Total count:  4\n"
     ]
    }
   ],
   "source": [
    "matcher = re.finditer('[^a-z]', 'a7b@ k9z')\n",
    "\n",
    "count = 0\n",
    "\n",
    "for m in matcher:\n",
    "    count +=1\n",
    "    print('Match is at:{}, End: {}, Pattern found:{}'.format(m.group(),m.start(),m.end()))\n",
    "print('Total count: ',count)    "
   ]
  },
  {
   "cell_type": "code",
   "execution_count": 26,
   "id": "a16a29cc",
   "metadata": {},
   "outputs": [
    {
     "name": "stdout",
     "output_type": "stream",
     "text": [
      "Match is at: 4, End: 5, Pattern found:  \n",
      "Total count:  1\n"
     ]
    }
   ],
   "source": [
    "matcher = re.finditer('\\s', 'a7b@ k9z')\n",
    "\n",
    "count = 0\n",
    "\n",
    "for m in matcher:\n",
    "    count += 1\n",
    "    print('Match is at: {}, End: {}, Pattern found: {}'.format(m.start(), m.end(), m.group()))\n",
    "print('Total count: ',count)"
   ]
  },
  {
   "cell_type": "code",
   "execution_count": 27,
   "id": "f66c0eaa",
   "metadata": {},
   "outputs": [
    {
     "name": "stdout",
     "output_type": "stream",
     "text": [
      "Match is at: 0, End: 1, Pattern found: a\n",
      "Match is at: 1, End: 2, Pattern found: 7\n",
      "Match is at: 2, End: 3, Pattern found: b\n",
      "Match is at: 5, End: 6, Pattern found: k\n",
      "Match is at: 6, End: 7, Pattern found: 9\n",
      "Match is at: 7, End: 8, Pattern found: z\n",
      "Total count:  6\n"
     ]
    }
   ],
   "source": [
    "matcher = re.finditer('\\w', 'a7b@ k9z')\n",
    "\n",
    "count = 0\n",
    "\n",
    "for m in matcher:\n",
    "    count += 1\n",
    "    print('Match is at: {}, End: {}, Pattern found: {}'.format(m.start(), m.end(), m.group()))\n",
    "print('Total count: ',count)"
   ]
  },
  {
   "cell_type": "code",
   "execution_count": 28,
   "id": "62492388",
   "metadata": {},
   "outputs": [
    {
     "name": "stdout",
     "output_type": "stream",
     "text": [
      "Match is at: 3, End: 4, Pattern found: @\n",
      "Match is at: 4, End: 5, Pattern found:  \n",
      "Total count:  2\n"
     ]
    }
   ],
   "source": [
    "matcher = re.finditer('\\W', 'a7b@ k9z')\n",
    "\n",
    "count = 0\n",
    "\n",
    "for m in matcher:\n",
    "    count += 1\n",
    "    print('Match is at: {}, End: {}, Pattern found: {}'.format(m.start(), m.end(), m.group()))\n",
    "print('Total count: ',count)"
   ]
  },
  {
   "cell_type": "code",
   "execution_count": 29,
   "id": "400eb1e5",
   "metadata": {},
   "outputs": [
    {
     "name": "stdout",
     "output_type": "stream",
     "text": [
      "Match is at: 0, End: 1, Pattern found: a\n",
      "Total count:  1\n"
     ]
    }
   ],
   "source": [
    "matcher = re.finditer('^a', 'a7b@ k9z')\n",
    "\n",
    "count = 0\n",
    "\n",
    "for m in matcher:\n",
    "    count += 1\n",
    "    print('Match is at: {}, End: {}, Pattern found: {}'.format(m.start(), m.end(), m.group()))\n",
    "print('Total count: ',count)"
   ]
  },
  {
   "cell_type": "code",
   "execution_count": 30,
   "id": "4d86c764",
   "metadata": {},
   "outputs": [
    {
     "name": "stdout",
     "output_type": "stream",
     "text": [
      "Match is at: 7, End: 8, Pattern found: z\n",
      "Total count:  1\n"
     ]
    }
   ],
   "source": [
    "matcher = re.finditer('z$', 'a7b@ k9z')\n",
    "\n",
    "count = 0\n",
    "\n",
    "for m in matcher:\n",
    "    count += 1\n",
    "    print('Match is at: {}, End: {}, Pattern found: {}'.format(m.start(), m.end(), m.group()))\n",
    "print('Total count: ',count)"
   ]
  },
  {
   "cell_type": "code",
   "execution_count": 31,
   "id": "3a9a808c",
   "metadata": {},
   "outputs": [
    {
     "name": "stdout",
     "output_type": "stream",
     "text": [
      "Match is at: 0, End: 1, Pattern found: a\n",
      "Match is at: 2, End: 3, Pattern found: a\n",
      "Match is at: 3, End: 4, Pattern found: a\n",
      "Match is at: 5, End: 6, Pattern found: a\n",
      "Match is at: 7, End: 8, Pattern found: a\n",
      "Total count:  5\n"
     ]
    }
   ],
   "source": [
    "matcher = re.finditer('a', 'abaababa')\n",
    "\n",
    "count = 0\n",
    "\n",
    "for m in matcher:\n",
    "    count += 1\n",
    "    print('Match is at: {}, End: {}, Pattern found: {}'.format(m.start(), m.end(), m.group()))\n",
    "print('Total count: ',count)"
   ]
  },
  {
   "cell_type": "code",
   "execution_count": 32,
   "id": "1471c788",
   "metadata": {},
   "outputs": [
    {
     "name": "stdout",
     "output_type": "stream",
     "text": [
      "Match is at: 0, End: 1, Pattern found: a\n",
      "Match is at: 2, End: 4, Pattern found: aa\n",
      "Match is at: 5, End: 6, Pattern found: a\n",
      "Match is at: 7, End: 8, Pattern found: a\n",
      "Total count:  4\n"
     ]
    }
   ],
   "source": [
    "matcher = re.finditer('a+', 'abaababa')\n",
    "\n",
    "count = 0\n",
    "\n",
    "for m in matcher:\n",
    "    count += 1\n",
    "    print('Match is at: {}, End: {}, Pattern found: {}'.format(m.start(), m.end(), m.group()))\n",
    "print('Total count: ',count)"
   ]
  },
  {
   "cell_type": "code",
   "execution_count": 33,
   "id": "18080cb5",
   "metadata": {},
   "outputs": [
    {
     "name": "stdout",
     "output_type": "stream",
     "text": [
      "Match is at: 0, End: 1, Pattern found: a\n",
      "Match is at: 1, End: 1, Pattern found: \n",
      "Match is at: 2, End: 4, Pattern found: aa\n",
      "Match is at: 4, End: 4, Pattern found: \n",
      "Match is at: 5, End: 6, Pattern found: a\n",
      "Match is at: 6, End: 6, Pattern found: \n",
      "Match is at: 7, End: 8, Pattern found: a\n",
      "Match is at: 8, End: 8, Pattern found: \n",
      "Total count:  8\n"
     ]
    }
   ],
   "source": [
    "matcher = re.finditer('a*', 'abaababa')\n",
    "\n",
    "count = 0\n",
    "\n",
    "for m in matcher:\n",
    "    count += 1\n",
    "    print('Match is at: {}, End: {}, Pattern found: {}'.format(m.start(), m.end(), m.group()))\n",
    "print('Total count: ',count)"
   ]
  },
  {
   "cell_type": "code",
   "execution_count": 34,
   "id": "36afb10a",
   "metadata": {},
   "outputs": [
    {
     "name": "stdout",
     "output_type": "stream",
     "text": [
      "Match is at: 0, End: 1, Pattern found: a\n",
      "Match is at: 1, End: 1, Pattern found: \n",
      "Match is at: 2, End: 3, Pattern found: a\n",
      "Match is at: 3, End: 4, Pattern found: a\n",
      "Match is at: 4, End: 4, Pattern found: \n",
      "Match is at: 5, End: 6, Pattern found: a\n",
      "Match is at: 6, End: 6, Pattern found: \n",
      "Match is at: 7, End: 8, Pattern found: a\n",
      "Match is at: 8, End: 8, Pattern found: \n",
      "Total count:  9\n"
     ]
    }
   ],
   "source": [
    "matcher = re.finditer('a?', 'abaababa')\n",
    "\n",
    "count = 0\n",
    "\n",
    "for m in matcher:\n",
    "    count += 1\n",
    "    print('Match is at: {}, End: {}, Pattern found: {}'.format(m.start(), m.end(), m.group()))\n",
    "print('Total count: ',count)"
   ]
  },
  {
   "cell_type": "code",
   "execution_count": 35,
   "id": "f2db0a05",
   "metadata": {},
   "outputs": [
    {
     "name": "stdout",
     "output_type": "stream",
     "text": [
      "Match is at: 0, End: 1, Pattern found: a\n",
      "Match is at: 1, End: 1, Pattern found: \n",
      "Match is at: 2, End: 3, Pattern found: a\n",
      "Match is at: 3, End: 4, Pattern found: a\n",
      "Match is at: 4, End: 4, Pattern found: \n",
      "Match is at: 5, End: 5, Pattern found: \n",
      "Match is at: 6, End: 7, Pattern found: a\n",
      "Match is at: 7, End: 7, Pattern found: \n",
      "Match is at: 8, End: 9, Pattern found: a\n",
      "Match is at: 9, End: 9, Pattern found: \n",
      "Match is at: 10, End: 10, Pattern found: \n",
      "Match is at: 11, End: 11, Pattern found: \n",
      "Match is at: 12, End: 12, Pattern found: \n",
      "Total count:  13\n"
     ]
    }
   ],
   "source": [
    "matcher = re.finditer('a?', 'abaabbababbb')\n",
    "\n",
    "count = 0\n",
    "\n",
    "for m in matcher:\n",
    "    count += 1\n",
    "    print('Match is at: {}, End: {}, Pattern found: {}'.format(m.start(), m.end(), m.group()))\n",
    "print('Total count: ',count)"
   ]
  },
  {
   "cell_type": "markdown",
   "id": "536df5d1",
   "metadata": {},
   "source": [
    "# re.match()"
   ]
  },
  {
   "cell_type": "code",
   "execution_count": 36,
   "id": "9c980002",
   "metadata": {},
   "outputs": [
    {
     "name": "stdout",
     "output_type": "stream",
     "text": [
      "Enter pattern: abc\n",
      "<class 're.Match'>\n",
      "Match found at beginning of the string.\n",
      "Match is at: 0, End: 3, Pattern found: abc\n"
     ]
    }
   ],
   "source": [
    "# Used to match the given pattern at the beginning of the target string\n",
    "# If it finds the pattern than returns match object.\n",
    "# Now we can use start(), end(), group() with match object\n",
    "# If nothing found then retuns None.\n",
    "\n",
    "\n",
    "import re\n",
    "\n",
    "regex = input('Enter pattern: ')\n",
    "\n",
    "m = re.match(regex, 'abcdefgh')\n",
    "\n",
    "print(type(m))\n",
    "\n",
    "if m == None:\n",
    "    print('Match is not available at beginning of the string!')\n",
    "\n",
    "else:\n",
    "    print('Match found at beginning of the string.')\n",
    "    print('Match is at: {}, End: {}, Pattern found: {}'.format(m.start(), m.end(), m.group()))\n",
    "    "
   ]
  },
  {
   "cell_type": "markdown",
   "id": "138bb268",
   "metadata": {},
   "source": [
    "### match will only going to look at the beginning of the string whereas search will going to look everywhere "
   ]
  },
  {
   "cell_type": "markdown",
   "id": "c051d185",
   "metadata": {},
   "source": [
    "# re.search()\n"
   ]
  },
  {
   "cell_type": "code",
   "execution_count": 37,
   "id": "a63322cb",
   "metadata": {},
   "outputs": [
    {
     "name": "stdout",
     "output_type": "stream",
     "text": [
      "Enter pattern: abc\n",
      "<class 're.Match'>\n",
      "Match found at beginning of the string.\n",
      "Match is at: 0, End: 3, Pattern found: abc\n"
     ]
    }
   ],
   "source": [
    "import re\n",
    "\n",
    "regex = input('Enter pattern: ')\n",
    "\n",
    "m = re.search(regex, 'abcdefgh')\n",
    "\n",
    "print(type(m))\n",
    "\n",
    "if m == None:\n",
    "    print('Match is not available at beginning of the string!')\n",
    "\n",
    "else:\n",
    "    print('Match found at beginning of the string.')\n",
    "    print('Match is at: {}, End: {}, Pattern found: {}'.format(m.start(), m.end(), m.group()))\n",
    "    "
   ]
  },
  {
   "cell_type": "code",
   "execution_count": 38,
   "id": "ee856bae",
   "metadata": {},
   "outputs": [
    {
     "name": "stdout",
     "output_type": "stream",
     "text": [
      "Enter pattern: bcd\n",
      "<class 're.Match'>\n",
      "Match found at beginning of the string.\n",
      "Match is at: 1, End: 4, Pattern found: bcd\n"
     ]
    }
   ],
   "source": [
    "import re\n",
    "\n",
    "regex = input('Enter pattern: ')\n",
    "\n",
    "m = re.search(regex, 'abcdefgh')\n",
    "\n",
    "print(type(m))\n",
    "\n",
    "if m == None:\n",
    "    print('Match is not available at beginning of the string!')\n",
    "\n",
    "else:\n",
    "    print('Match found at beginning of the string.')\n",
    "    print('Match is at: {}, End: {}, Pattern found: {}'.format(m.start(), m.end(), m.group()))\n",
    "    "
   ]
  },
  {
   "cell_type": "markdown",
   "id": "14c23b85",
   "metadata": {},
   "source": [
    "# re.match() vs re.search()"
   ]
  },
  {
   "cell_type": "code",
   "execution_count": 41,
   "id": "81df5e30",
   "metadata": {},
   "outputs": [
    {
     "name": "stdout",
     "output_type": "stream",
     "text": [
      "MATCH SUCC\n",
      "SEARCH SUCC\n"
     ]
    }
   ],
   "source": [
    "target = 'Dogs are better than cats'\n",
    "\n",
    "pattern = 'Dogs'\n",
    "\n",
    "m = re.match(pattern, target)\n",
    "\n",
    "if m == None:\n",
    "    print('NO MATCH')\n",
    "else:\n",
    "    print('MATCH SUCC')\n",
    "    \n",
    "m = re.search(pattern, target)\n",
    "\n",
    "if m == None:\n",
    "    print('NO SEARCH')\n",
    "else:\n",
    "    print('SEARCH SUCC')"
   ]
  },
  {
   "cell_type": "code",
   "execution_count": 42,
   "id": "f19faed2",
   "metadata": {},
   "outputs": [
    {
     "name": "stdout",
     "output_type": "stream",
     "text": [
      "NO MATCH\n",
      "SEARCH SUCC\n"
     ]
    }
   ],
   "source": [
    "target = 'Dogs are better than cats'\n",
    "\n",
    "pattern = 'cats'\n",
    "\n",
    "m = re.match(pattern, target)\n",
    "\n",
    "if m == None:\n",
    "    print('NO MATCH')\n",
    "else:\n",
    "    print('MATCH SUCC')\n",
    "    \n",
    "# it will show no match because it will only going to match the starting of the string   \n",
    "    \n",
    "m = re.search(pattern, target)\n",
    "\n",
    "if m == None:\n",
    "    print('NO SEARCH')\n",
    "else:\n",
    "    print('SEARCH SUCC')"
   ]
  },
  {
   "cell_type": "markdown",
   "id": "ff504a25",
   "metadata": {},
   "source": [
    "### more examples "
   ]
  },
  {
   "cell_type": "code",
   "execution_count": 44,
   "id": "51cc05ad",
   "metadata": {},
   "outputs": [
    {
     "name": "stdout",
     "output_type": "stream",
     "text": [
      "Cool!!\n"
     ]
    }
   ],
   "source": [
    "# re.IGNORECASE flag\n",
    "\n",
    "import re\n",
    "\n",
    "s = 'I am learning Python'\n",
    "\n",
    "m = re.search('Python$', s)\n",
    "\n",
    "if m:\n",
    "    print('Cool!!')\n",
    "    \n",
    "else:\n",
    "    print('Not Cool!!')"
   ]
  },
  {
   "cell_type": "code",
   "execution_count": 45,
   "id": "f92f9446",
   "metadata": {},
   "outputs": [
    {
     "name": "stdout",
     "output_type": "stream",
     "text": [
      "Enter any identifier to validate: any\n",
      "any is valid\n"
     ]
    }
   ],
   "source": [
    "# Python Identifier\n",
    "\n",
    "import re\n",
    "\n",
    "s = input('Enter any identifier to validate: ')\n",
    "\n",
    "m = re.fullmatch('[a-zA-Z_]+[a-zA-Z0-9_]*', s)\n",
    "\n",
    "if m:\n",
    "    print(s, 'is valid')\n",
    "else:\n",
    "    print(s, 'not valid')"
   ]
  },
  {
   "cell_type": "code",
   "execution_count": 46,
   "id": "b3fc9750",
   "metadata": {},
   "outputs": [
    {
     "name": "stdout",
     "output_type": "stream",
     "text": [
      "Enter any identifier to validate: 9\n",
      "9 not valid\n"
     ]
    }
   ],
   "source": [
    "# Python Identifier\n",
    "\n",
    "import re\n",
    "\n",
    "s = input('Enter any identifier to validate: ')\n",
    "\n",
    "m = re.fullmatch('[a-zA-Z_]+[a-zA-Z0-9_]*', s)\n",
    "\n",
    "if m:\n",
    "    print(s, 'is valid')\n",
    "else:\n",
    "    print(s, 'not valid')"
   ]
  },
  {
   "cell_type": "code",
   "execution_count": 47,
   "id": "87351005",
   "metadata": {},
   "outputs": [
    {
     "name": "stdout",
     "output_type": "stream",
     "text": [
      "Enter a mobile number to validate: 576879898\n",
      "576879898 not valid\n"
     ]
    }
   ],
   "source": [
    "# Match Phone number\n",
    "\n",
    "import re\n",
    "\n",
    "s = input('Enter a mobile number to validate: ')\n",
    "\n",
    "m = re.fullmatch('[6-9]\\d{9}', s)\n",
    "\n",
    "if m:\n",
    "    print(s, 'is Valid')\n",
    "else:\n",
    "    print(s, 'not valid')"
   ]
  },
  {
   "cell_type": "code",
   "execution_count": 48,
   "id": "4ef05f85",
   "metadata": {},
   "outputs": [
    {
     "name": "stdout",
     "output_type": "stream",
     "text": [
      "Enter a mobile number to validate: 9398878192\n",
      "9398878192 is Valid\n"
     ]
    }
   ],
   "source": [
    "# Match Phone number\n",
    "\n",
    "import re\n",
    "\n",
    "s = input('Enter a mobile number to validate: ')\n",
    "\n",
    "m = re.fullmatch('[6-9]\\d{9}', s)\n",
    "\n",
    "if m:\n",
    "    print(s, 'is Valid')\n",
    "else:\n",
    "    print(s, 'not valid')"
   ]
  },
  {
   "cell_type": "markdown",
   "id": "ec918ff7",
   "metadata": {},
   "source": [
    "# Search and replace "
   ]
  },
  {
   "cell_type": "code",
   "execution_count": 49,
   "id": "b3f5cfa6",
   "metadata": {},
   "outputs": [
    {
     "name": "stdout",
     "output_type": "stream",
     "text": [
      "a#b#j#k#h#\n"
     ]
    }
   ],
   "source": [
    "# re.sub(regex, replacement, targetString)\n",
    "\n",
    "import re\n",
    "\n",
    "s = re.sub('\\d', '#', 'a7b6j9k2h4')\n",
    "\n",
    "print(s)"
   ]
  },
  {
   "cell_type": "code",
   "execution_count": null,
   "id": "d813322a",
   "metadata": {},
   "outputs": [],
   "source": []
  }
 ],
 "metadata": {
  "kernelspec": {
   "display_name": "Python 3",
   "language": "python",
   "name": "python3"
  },
  "language_info": {
   "codemirror_mode": {
    "name": "ipython",
    "version": 3
   },
   "file_extension": ".py",
   "mimetype": "text/x-python",
   "name": "python",
   "nbconvert_exporter": "python",
   "pygments_lexer": "ipython3",
   "version": "3.8.8"
  }
 },
 "nbformat": 4,
 "nbformat_minor": 5
}
