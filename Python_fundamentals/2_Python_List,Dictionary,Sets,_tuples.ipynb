{
  "cells": [
    {
      "cell_type": "code",
      "source": [
        "#Python libraries and frameworks -\n",
        "#Numpy(Used for creating multidimentional arrays)\n",
        "#(an array is like a list that holds multiple elements, such as numbers or words, in a specific order.),\n",
        "#Pandas(Helps to read different kind of data so that we can retrieve the data),\n",
        "#Matplotlib & Seaborn(for statiscal analysis),\n",
        "#Scikit learn(for ML applications)\n",
        "#Randint - used to generate random numbers"
      ],
      "metadata": {
        "id": "2hjJ8btQUJBc"
      },
      "execution_count": 1,
      "outputs": []
    },
    {
      "cell_type": "markdown",
      "metadata": {
        "id": "RkJgTEc5UGs7"
      },
      "source": [
        "## Python Data Structures and Boolean\n",
        "\n",
        "- Boolean\n",
        "- Boolean and Logical Operators\n",
        "- Lists\n",
        "- Comparison operators\n",
        "- Dictionaries\n",
        "- Tuples\n",
        "- Sets\n"
      ]
    },
    {
      "cell_type": "markdown",
      "metadata": {
        "id": "mFU6bx5GUGs-"
      },
      "source": [
        "### Boolean Variables\n",
        "\n",
        "Boolean values are the two constant objects False and True.\n",
        "\n",
        "They are used to represent truth values (other values can also be considered\n",
        "false or true).\n",
        "\n",
        "In numeric contexts (for example, when used as the argument to an\n",
        "arithmetic operator), they behave like the integers 0 and 1, respectively.\n",
        "\n",
        "The built-in function bool() can be used to cast any value to a Boolean,\n",
        "if the value can be interpreted as a truth value\n",
        "\n",
        "They are written as False and True, respectively.\n",
        "\n"
      ]
    },
    {
      "cell_type": "code",
      "execution_count": null,
      "metadata": {
        "id": "yNhxQWvxUGs_",
        "outputId": "c5422b08-3e75-4a2d-acad-cd26221e7266"
      },
      "outputs": [
        {
          "data": {
            "text/plain": [
              "False"
            ]
          },
          "execution_count": 3,
          "metadata": {},
          "output_type": "execute_result"
        }
      ],
      "source": [
        "False"
      ]
    },
    {
      "cell_type": "code",
      "execution_count": null,
      "metadata": {
        "id": "O8tIkj7ZUGs_",
        "outputId": "6fe8c05c-a8c3-4635-dbc3-25f22646864b"
      },
      "outputs": [
        {
          "name": "stdout",
          "output_type": "stream",
          "text": [
            "True False\n"
          ]
        }
      ],
      "source": [
        "print(True,False)"
      ]
    },
    {
      "cell_type": "code",
      "execution_count": null,
      "metadata": {
        "id": "nTp0fUM0UGtA",
        "outputId": "6701657c-bd88-4be4-8db3-fe61a5e57a53"
      },
      "outputs": [
        {
          "data": {
            "text/plain": [
              "bool"
            ]
          },
          "execution_count": 4,
          "metadata": {},
          "output_type": "execute_result"
        }
      ],
      "source": [
        "type(True)"
      ]
    },
    {
      "cell_type": "code",
      "execution_count": null,
      "metadata": {
        "id": "duQ3ijnTUGtA",
        "outputId": "843b717d-d949-4fc6-c574-975c6a283b07"
      },
      "outputs": [
        {
          "data": {
            "text/plain": [
              "bool"
            ]
          },
          "execution_count": 5,
          "metadata": {},
          "output_type": "execute_result"
        }
      ],
      "source": [
        "type(False)"
      ]
    },
    {
      "cell_type": "code",
      "execution_count": null,
      "metadata": {
        "id": "9Knq3vIkUGtA"
      },
      "outputs": [],
      "source": [
        "my_str='Krish123'"
      ]
    },
    {
      "cell_type": "code",
      "execution_count": null,
      "metadata": {
        "id": "1NaQAsddUGtA",
        "outputId": "67fec732-5b20-4543-955c-870495894f4f"
      },
      "outputs": [
        {
          "data": {
            "text/plain": [
              "True"
            ]
          },
          "execution_count": 10,
          "metadata": {},
          "output_type": "execute_result"
        }
      ],
      "source": [
        "my_str.istitle()"
      ]
    },
    {
      "cell_type": "code",
      "execution_count": null,
      "metadata": {
        "id": "oV4fFormUGtA",
        "outputId": "508ce2b8-feea-456d-dd86-6765f503744e"
      },
      "outputs": [
        {
          "name": "stdout",
          "output_type": "stream",
          "text": [
            "True\n",
            "False\n",
            "False\n",
            "True\n",
            "False\n",
            "False\n",
            "False\n",
            "False\n",
            "True\n"
          ]
        }
      ],
      "source": [
        "print(my_str.isalnum()) #check if all char are numbers\n",
        "print(my_str.isalpha()) #check if all char in the string are alphabetic\n",
        "print(my_str.isdigit()) #test if string contains digits\n",
        "print(my_str.istitle()) #test if string contains title words\n",
        "print(my_str.isupper()) #test if string contains upper case\n",
        "print(my_str.islower()) #test if string contains lower case\n",
        "print(my_str.isspace()) #test if string contains spaces\n",
        "print(my_str.endswith('k')) #test if string endswith a d\n",
        "print(my_str.startswith('K')) #test if string startswith H"
      ]
    },
    {
      "cell_type": "markdown",
      "metadata": {
        "id": "BM4YLYaxUGtB"
      },
      "source": [
        "### Boolean and Logical Operators"
      ]
    },
    {
      "cell_type": "code",
      "execution_count": null,
      "metadata": {
        "id": "h_n3lAR9UGtB",
        "outputId": "19c6972a-90dd-4351-af0b-d5dd2ef4cef2"
      },
      "outputs": [
        {
          "data": {
            "text/plain": [
              "True"
            ]
          },
          "execution_count": 10,
          "metadata": {},
          "output_type": "execute_result"
        }
      ],
      "source": [
        "True and True"
      ]
    },
    {
      "cell_type": "code",
      "execution_count": null,
      "metadata": {
        "id": "bZPgFO_OUGtB",
        "outputId": "19357509-ebaf-4e3c-b541-87a144bbd3b4"
      },
      "outputs": [
        {
          "data": {
            "text/plain": [
              "False"
            ]
          },
          "execution_count": 11,
          "metadata": {},
          "output_type": "execute_result"
        }
      ],
      "source": [
        "True and False"
      ]
    },
    {
      "cell_type": "code",
      "execution_count": null,
      "metadata": {
        "id": "dW1xTP1vUGtB",
        "outputId": "0bb15cff-9c45-495b-f8dc-fd7cefedcb73"
      },
      "outputs": [
        {
          "data": {
            "text/plain": [
              "True"
            ]
          },
          "execution_count": 12,
          "metadata": {},
          "output_type": "execute_result"
        }
      ],
      "source": [
        "True or False"
      ]
    },
    {
      "cell_type": "code",
      "execution_count": null,
      "metadata": {
        "id": "HbIG1pY_UGtC",
        "outputId": "03cccbdd-7bcc-43f4-9c8f-d7c9152ec356"
      },
      "outputs": [
        {
          "data": {
            "text/plain": [
              "True"
            ]
          },
          "execution_count": 13,
          "metadata": {},
          "output_type": "execute_result"
        }
      ],
      "source": [
        "True or True"
      ]
    },
    {
      "cell_type": "code",
      "execution_count": null,
      "metadata": {
        "id": "ApzoX0seUGtC"
      },
      "outputs": [],
      "source": [
        "str_example='Hello World'\n",
        "my_str='Krish'"
      ]
    },
    {
      "cell_type": "code",
      "execution_count": null,
      "metadata": {
        "id": "nVtIXNK5UGtC",
        "outputId": "77a6e918-6a18-4e3a-ad07-9a859ab6ac7a"
      },
      "outputs": [
        {
          "data": {
            "text/plain": [
              "True"
            ]
          },
          "execution_count": 14,
          "metadata": {},
          "output_type": "execute_result"
        }
      ],
      "source": [
        "my_str.isalpha() or str_example.isnum()"
      ]
    },
    {
      "cell_type": "markdown",
      "metadata": {
        "id": "V7zusfmrUGtC"
      },
      "source": [
        "### Lists\n",
        "\n",
        "A list is a data structure in Python that is a mutable, or changeable, ordered sequence of elements. Each element or value that is inside of a list is called an item. Just as strings are defined as characters between quotes, lists are defined by having values between square brackets [ ]"
      ]
    },
    {
      "cell_type": "code",
      "execution_count": null,
      "metadata": {
        "id": "F0Id1eK9UGtC",
        "outputId": "76e8e5c7-eaa2-44a7-9629-7d3f078dc065"
      },
      "outputs": [
        {
          "data": {
            "text/plain": [
              "list"
            ]
          },
          "execution_count": 15,
          "metadata": {},
          "output_type": "execute_result"
        }
      ],
      "source": [
        "type([])"
      ]
    },
    {
      "cell_type": "code",
      "execution_count": null,
      "metadata": {
        "id": "jjCMDvFfUGtC"
      },
      "outputs": [],
      "source": [
        "lst_example=[]"
      ]
    },
    {
      "cell_type": "code",
      "execution_count": null,
      "metadata": {
        "id": "TYDq5sbRUGtC",
        "outputId": "c9c50834-cff6-4e4f-f7e3-79faa2da1739"
      },
      "outputs": [
        {
          "data": {
            "text/plain": [
              "list"
            ]
          },
          "execution_count": 19,
          "metadata": {},
          "output_type": "execute_result"
        }
      ],
      "source": [
        "type(lst_example)"
      ]
    },
    {
      "cell_type": "code",
      "execution_count": null,
      "metadata": {
        "id": "_R5m3WGXUGtC"
      },
      "outputs": [],
      "source": [
        "lst=list()"
      ]
    },
    {
      "cell_type": "code",
      "execution_count": null,
      "metadata": {
        "id": "qOI1GFw9UGtD",
        "outputId": "eadf388b-d82f-481d-f61e-2c26c61fd52f"
      },
      "outputs": [
        {
          "data": {
            "text/plain": [
              "list"
            ]
          },
          "execution_count": 21,
          "metadata": {},
          "output_type": "execute_result"
        }
      ],
      "source": [
        "type(lst)"
      ]
    },
    {
      "cell_type": "code",
      "execution_count": null,
      "metadata": {
        "id": "Sd_zDVN7UGtD"
      },
      "outputs": [],
      "source": [
        "lst=['Mathematics', 'chemistry', 100, 200, 300, 204]"
      ]
    },
    {
      "cell_type": "code",
      "execution_count": null,
      "metadata": {
        "id": "lbzGC2ZqUGtD",
        "outputId": "433d54b1-911b-4557-962d-b27cafdea453"
      },
      "outputs": [
        {
          "data": {
            "text/plain": [
              "6"
            ]
          },
          "execution_count": 18,
          "metadata": {},
          "output_type": "execute_result"
        }
      ],
      "source": [
        "len(lst)"
      ]
    },
    {
      "cell_type": "code",
      "execution_count": null,
      "metadata": {
        "id": "lEzO18fyUGtD",
        "outputId": "d7fdc46e-9d90-4335-901c-e78b96cb270e"
      },
      "outputs": [
        {
          "data": {
            "text/plain": [
              "list"
            ]
          },
          "execution_count": 17,
          "metadata": {},
          "output_type": "execute_result"
        }
      ],
      "source": [
        "type(lst)"
      ]
    },
    {
      "cell_type": "markdown",
      "metadata": {
        "id": "46_BLQ3yUGtD"
      },
      "source": [
        "### Append"
      ]
    },
    {
      "cell_type": "code",
      "execution_count": null,
      "metadata": {
        "id": "6kRPIlSZUGtE"
      },
      "outputs": [],
      "source": [
        "#.append is used to add elements in the list\n",
        "lst.append(\"Krish\")"
      ]
    },
    {
      "cell_type": "code",
      "execution_count": null,
      "metadata": {
        "id": "mIAKgpEfUGtE"
      },
      "outputs": [],
      "source": [
        "lst.append([\"John\",\"Bala\"])"
      ]
    },
    {
      "cell_type": "code",
      "execution_count": null,
      "metadata": {
        "id": "R4VB1qgiUGtE",
        "outputId": "d4cf2fc3-1019-40cd-e8a8-492690dcd9e0"
      },
      "outputs": [
        {
          "data": {
            "text/plain": [
              "['Mathematics', 'chemistry', 100, 200, 300, 204, 'Krish', ['John', 'Bala']]"
            ]
          },
          "execution_count": 28,
          "metadata": {},
          "output_type": "execute_result"
        }
      ],
      "source": [
        "lst"
      ]
    },
    {
      "cell_type": "code",
      "execution_count": null,
      "metadata": {
        "id": "7lE6gBu7UGtE",
        "outputId": "c792af6e-2fe6-4e98-f568-98a9c7c2558d"
      },
      "outputs": [
        {
          "data": {
            "text/plain": [
              "'Krish'"
            ]
          },
          "execution_count": 23,
          "metadata": {},
          "output_type": "execute_result"
        }
      ],
      "source": [
        "##Indexing in List\n",
        "lst[6]"
      ]
    },
    {
      "cell_type": "code",
      "execution_count": null,
      "metadata": {
        "id": "DG9UzRBcUGtF",
        "outputId": "ce8d0f72-7a4f-4e6c-9d37-5e3bfa4fed06"
      },
      "outputs": [
        {
          "data": {
            "text/plain": [
              "['chemistry', 100, 200, 300, 204]"
            ]
          },
          "execution_count": 26,
          "metadata": {},
          "output_type": "execute_result"
        }
      ],
      "source": [
        "lst[1:6]"
      ]
    },
    {
      "cell_type": "markdown",
      "metadata": {
        "id": "5FVioXDMUGtF"
      },
      "source": [
        "### Insert"
      ]
    },
    {
      "cell_type": "code",
      "execution_count": null,
      "metadata": {
        "id": "ph5ktRcOUGtF"
      },
      "outputs": [],
      "source": [
        "## insert in a specific order\n",
        "\n",
        "lst.insert(2,\"Naik\")"
      ]
    },
    {
      "cell_type": "code",
      "execution_count": null,
      "metadata": {
        "id": "jMSp0OtsUGtF",
        "outputId": "fafd05be-a8e5-4272-90c6-830e153fda1d"
      },
      "outputs": [
        {
          "data": {
            "text/plain": [
              "['Mathematics',\n",
              " 'chemistry',\n",
              " 'Naik',\n",
              " 100,\n",
              " 200,\n",
              " 300,\n",
              " 204,\n",
              " 'Krish',\n",
              " ['John', 'Bala']]"
            ]
          },
          "execution_count": 30,
          "metadata": {},
          "output_type": "execute_result"
        }
      ],
      "source": [
        "lst"
      ]
    },
    {
      "cell_type": "code",
      "execution_count": null,
      "metadata": {
        "id": "lyW0CdqNUGtG"
      },
      "outputs": [],
      "source": [
        "lst.append([\"Hello\",\"World\"])"
      ]
    },
    {
      "cell_type": "code",
      "execution_count": null,
      "metadata": {
        "id": "detVBN24UGtG",
        "outputId": "e642d3aa-d6a5-44b0-80ba-f3a2ba05fc8d"
      },
      "outputs": [
        {
          "data": {
            "text/plain": [
              "['Mathematics',\n",
              " 'chemistry',\n",
              " 'Naik',\n",
              " 100,\n",
              " 200,\n",
              " 300,\n",
              " 204,\n",
              " 'Krish',\n",
              " ['John', 'Bala'],\n",
              " ['Hello', 'World']]"
            ]
          },
          "execution_count": 32,
          "metadata": {},
          "output_type": "execute_result"
        }
      ],
      "source": [
        "lst"
      ]
    },
    {
      "cell_type": "code",
      "execution_count": null,
      "metadata": {
        "id": "M9AHY4VjUGtG"
      },
      "outputs": [],
      "source": [
        "lst=[1,2,3]"
      ]
    },
    {
      "cell_type": "code",
      "execution_count": null,
      "metadata": {
        "id": "GCPlG-sMUGtG"
      },
      "outputs": [],
      "source": [
        "lst.append([4,5])"
      ]
    },
    {
      "cell_type": "code",
      "execution_count": null,
      "metadata": {
        "id": "41wYT3MKUGtG",
        "outputId": "31f7c20a-dcd4-4dee-de28-dab26481e849"
      },
      "outputs": [
        {
          "data": {
            "text/plain": [
              "[1, 2, 3, [4, 5]]"
            ]
          },
          "execution_count": 32,
          "metadata": {},
          "output_type": "execute_result"
        }
      ],
      "source": [
        "lst"
      ]
    },
    {
      "cell_type": "markdown",
      "metadata": {
        "id": "wehFqngRUGtK"
      },
      "source": [
        "### Extend Method"
      ]
    },
    {
      "cell_type": "code",
      "execution_count": null,
      "metadata": {
        "id": "3mNr2pckUGtK"
      },
      "outputs": [],
      "source": [
        "lst=[1,2,3,4,5,6]"
      ]
    },
    {
      "cell_type": "code",
      "execution_count": null,
      "metadata": {
        "id": "S1xhfqrZUGtK"
      },
      "outputs": [],
      "source": [
        "lst.extend([8,9])"
      ]
    },
    {
      "cell_type": "code",
      "execution_count": null,
      "metadata": {
        "id": "VGKL1U1uUGtK",
        "outputId": "a744a5b8-166a-425d-cd8c-5d81068fe86e"
      },
      "outputs": [
        {
          "data": {
            "text/plain": [
              "[1, 2, 3, 4, 5, 6, 8, 9]"
            ]
          },
          "execution_count": 35,
          "metadata": {},
          "output_type": "execute_result"
        }
      ],
      "source": [
        "lst"
      ]
    },
    {
      "cell_type": "markdown",
      "metadata": {
        "id": "U8hsadM3UGtL"
      },
      "source": [
        "### Various Operations that we can perform in List"
      ]
    },
    {
      "cell_type": "code",
      "execution_count": null,
      "metadata": {
        "id": "3jX2dx8QUGtL"
      },
      "outputs": [],
      "source": [
        "lst=[1,2,3,4,5]"
      ]
    },
    {
      "cell_type": "code",
      "execution_count": null,
      "metadata": {
        "id": "Eoc4NOiSUGtL",
        "outputId": "2b999068-b95b-4deb-e73f-2e05c87838ae"
      },
      "outputs": [
        {
          "data": {
            "text/plain": [
              "15"
            ]
          },
          "execution_count": 42,
          "metadata": {},
          "output_type": "execute_result"
        }
      ],
      "source": [
        "sum(lst)"
      ]
    },
    {
      "cell_type": "code",
      "execution_count": null,
      "metadata": {
        "id": "ZRK3wl54UGtL",
        "outputId": "79932ca9-f9cc-4425-8d1d-52856d27449d"
      },
      "outputs": [
        {
          "data": {
            "text/plain": [
              "[1, 2, 3, 4, 5, 1, 2, 3, 4, 5, 1, 2, 3, 4, 5, 1, 2, 3, 4, 5, 1, 2, 3, 4, 5]"
            ]
          },
          "execution_count": 48,
          "metadata": {},
          "output_type": "execute_result"
        }
      ],
      "source": [
        "lst*5"
      ]
    },
    {
      "cell_type": "markdown",
      "metadata": {
        "id": "m1rOOhGzUGtL"
      },
      "source": [
        "### Pop() Method"
      ]
    },
    {
      "cell_type": "code",
      "execution_count": null,
      "metadata": {
        "id": "5JwF0nUzUGtL",
        "outputId": "d0712ee4-a4e0-4d1e-9d6d-a71e6b5ce70e"
      },
      "outputs": [
        {
          "data": {
            "text/plain": [
              "5"
            ]
          },
          "execution_count": 37,
          "metadata": {},
          "output_type": "execute_result"
        }
      ],
      "source": [
        "lst.pop()"
      ]
    },
    {
      "cell_type": "code",
      "execution_count": null,
      "metadata": {
        "id": "quUyw3gwUGtL",
        "outputId": "b6736cae-6220-42c8-c97c-76d7e04f4f3c"
      },
      "outputs": [
        {
          "data": {
            "text/plain": [
              "[1, 2, 3, 4]"
            ]
          },
          "execution_count": 38,
          "metadata": {},
          "output_type": "execute_result"
        }
      ],
      "source": [
        "lst"
      ]
    },
    {
      "cell_type": "code",
      "execution_count": null,
      "metadata": {
        "id": "d30k5WS_UGtL",
        "outputId": "7ed12557-81e9-4672-84cf-adcc44e407d6"
      },
      "outputs": [
        {
          "data": {
            "text/plain": [
              "1"
            ]
          },
          "execution_count": 39,
          "metadata": {},
          "output_type": "execute_result"
        }
      ],
      "source": [
        "lst.pop(0)"
      ]
    },
    {
      "cell_type": "code",
      "execution_count": null,
      "metadata": {
        "id": "aBg41wKFUGtM",
        "outputId": "fbf4fa0c-108d-43da-a21f-c595194044b7"
      },
      "outputs": [
        {
          "data": {
            "text/plain": [
              "[2, 3, 4]"
            ]
          },
          "execution_count": 40,
          "metadata": {},
          "output_type": "execute_result"
        }
      ],
      "source": [
        "lst"
      ]
    },
    {
      "cell_type": "markdown",
      "metadata": {
        "id": "ky0Ee475UGtM"
      },
      "source": [
        "### count():Calculates total occurrence of given element of List"
      ]
    },
    {
      "cell_type": "code",
      "execution_count": null,
      "metadata": {
        "id": "GCp1rFuTUGtM",
        "outputId": "072ba3bd-fac6-4f55-cee0-624bebe3ec51"
      },
      "outputs": [
        {
          "data": {
            "text/plain": [
              "2"
            ]
          },
          "execution_count": 41,
          "metadata": {},
          "output_type": "execute_result"
        }
      ],
      "source": [
        "lst=[1,1,2,3,4,5]\n",
        "lst.count(1)"
      ]
    },
    {
      "cell_type": "code",
      "execution_count": null,
      "metadata": {
        "id": "4rMTJjYhUGtM",
        "outputId": "f9db3324-6b72-4db7-99aa-5cfba4ac47e9"
      },
      "outputs": [
        {
          "data": {
            "text/plain": [
              "6"
            ]
          },
          "execution_count": 49,
          "metadata": {},
          "output_type": "execute_result"
        }
      ],
      "source": [
        "#length:Calculates total length of List\n",
        "len(lst)"
      ]
    },
    {
      "cell_type": "code",
      "execution_count": null,
      "metadata": {
        "id": "zf-hpgqyUGtM",
        "outputId": "1b049f2e-dc37-4108-8d13-a0fc10df524e"
      },
      "outputs": [
        {
          "data": {
            "text/plain": [
              "1"
            ]
          },
          "execution_count": 44,
          "metadata": {},
          "output_type": "execute_result"
        }
      ],
      "source": [
        "# index(): Returns the index of first occurrence. Start and End index are not necessary parameters\n",
        "lst.index(1,1,4)"
      ]
    },
    {
      "cell_type": "code",
      "execution_count": null,
      "metadata": {
        "id": "4cmY7F5sUGtM",
        "outputId": "7402e15b-74a2-43e3-cbbd-928125536a90"
      },
      "outputs": [
        {
          "data": {
            "text/plain": [
              "1"
            ]
          },
          "execution_count": 45,
          "metadata": {},
          "output_type": "execute_result"
        }
      ],
      "source": [
        "##Min and Max\n",
        "min(lst)"
      ]
    },
    {
      "cell_type": "code",
      "execution_count": null,
      "metadata": {
        "id": "RQEMTfEfUGtN",
        "outputId": "1fa094c1-f949-4d3e-a1ab-1fa83ce1263c"
      },
      "outputs": [
        {
          "data": {
            "text/plain": [
              "5"
            ]
          },
          "execution_count": 57,
          "metadata": {},
          "output_type": "execute_result"
        }
      ],
      "source": [
        "max(lst)"
      ]
    },
    {
      "cell_type": "markdown",
      "metadata": {
        "id": "Ghqw32tSUGtN"
      },
      "source": [
        "## SETS\n",
        "\n",
        "A Set is an unordered collection data type that is iterable, mutable, and has no duplicate elements. Python's set class represents the mathematical notion of a set.This is based on a data structure known as a hash table"
      ]
    },
    {
      "cell_type": "code",
      "execution_count": null,
      "metadata": {
        "id": "gcod2HQNUGtN",
        "outputId": "eb107eff-8498-49ae-c55e-bbff597a9b12"
      },
      "outputs": [
        {
          "name": "stdout",
          "output_type": "stream",
          "text": [
            "set()\n",
            "<class 'set'>\n"
          ]
        }
      ],
      "source": [
        "## Defining an empy set\n",
        "\n",
        "set_var= set()\n",
        "print(set_var)\n",
        "print(type(set_var))"
      ]
    },
    {
      "cell_type": "code",
      "execution_count": null,
      "metadata": {
        "id": "nJgGj4sAUGtN"
      },
      "outputs": [],
      "source": [
        "set_var={1,2,3,4,3}"
      ]
    },
    {
      "cell_type": "code",
      "execution_count": null,
      "metadata": {
        "id": "_n5-UZH_UGtN",
        "outputId": "77d06ab6-1f89-4655-ccdb-bc89cb513b1d"
      },
      "outputs": [
        {
          "data": {
            "text/plain": [
              "{1, 2, 3, 4}"
            ]
          },
          "execution_count": 50,
          "metadata": {},
          "output_type": "execute_result"
        }
      ],
      "source": [
        "set_var"
      ]
    },
    {
      "cell_type": "code",
      "execution_count": null,
      "metadata": {
        "id": "gVrbiFVLUGtN",
        "outputId": "4bd7a23f-b444-4025-aa93-ade1ffcbae40"
      },
      "outputs": [
        {
          "name": "stdout",
          "output_type": "stream",
          "text": [
            "{'IronMan', 'Hitman', 'Avengers'}\n"
          ]
        },
        {
          "data": {
            "text/plain": [
              "set"
            ]
          },
          "execution_count": 55,
          "metadata": {},
          "output_type": "execute_result"
        }
      ],
      "source": [
        "set_var={\"Avengers\",\"IronMan\",'Hitman'}\n",
        "print(set_var)\n",
        "type(set_var)"
      ]
    },
    {
      "cell_type": "code",
      "execution_count": null,
      "metadata": {
        "id": "WnuffAjAUGtN"
      },
      "outputs": [],
      "source": []
    },
    {
      "cell_type": "code",
      "execution_count": null,
      "metadata": {
        "id": "tHln0PGDUGtN"
      },
      "outputs": [],
      "source": [
        "## Inbuilt function in sets\n",
        "\n",
        "set_var.add(\"Hulk\")\n"
      ]
    },
    {
      "cell_type": "code",
      "execution_count": null,
      "metadata": {
        "id": "0vd_1DeeUGtO"
      },
      "outputs": [],
      "source": [
        "."
      ]
    },
    {
      "cell_type": "code",
      "execution_count": null,
      "metadata": {
        "id": "BV_A-WfxUGtO",
        "outputId": "165f55c8-7c9b-4763-b859-7348129b5265"
      },
      "outputs": [
        {
          "name": "stdout",
          "output_type": "stream",
          "text": [
            "{'IronMan', 'Hitman', 'Avengers', 'Hulk'}\n"
          ]
        }
      ],
      "source": [
        "print(set_var)"
      ]
    },
    {
      "cell_type": "code",
      "execution_count": null,
      "metadata": {
        "id": "U6pCgy6wUGtO"
      },
      "outputs": [],
      "source": [
        "set1={\"Avengers\",\"IronMan\",'Hitman'}\n",
        "set2={\"Avengers\",\"IronMan\",'Hitman','Hulk2'}"
      ]
    },
    {
      "cell_type": "code",
      "execution_count": null,
      "metadata": {
        "id": "om80jNKjUGtO"
      },
      "outputs": [],
      "source": [
        "set2.intersection_update(set1)"
      ]
    },
    {
      "cell_type": "code",
      "execution_count": null,
      "metadata": {
        "id": "GtbSV7ObUGtO",
        "outputId": "f06fd5e3-e945-416f-9c42-cdc5eb0cbe0d"
      },
      "outputs": [
        {
          "data": {
            "text/plain": [
              "{'Avengers', 'Hitman', 'IronMan'}"
            ]
          },
          "execution_count": 66,
          "metadata": {},
          "output_type": "execute_result"
        }
      ],
      "source": [
        "set2"
      ]
    },
    {
      "cell_type": "code",
      "execution_count": null,
      "metadata": {
        "id": "Au7y6hP2UGtO",
        "outputId": "6a1e7d92-329e-4a22-8ad2-c109cba4ae24"
      },
      "outputs": [
        {
          "data": {
            "text/plain": [
              "{'Hulk2'}"
            ]
          },
          "execution_count": 59,
          "metadata": {},
          "output_type": "execute_result"
        }
      ],
      "source": [
        "##Difference\n",
        "set2.difference(set1)"
      ]
    },
    {
      "cell_type": "code",
      "execution_count": null,
      "metadata": {
        "id": "QyNum5Y_UGtO",
        "outputId": "de6fad92-613c-4f93-9e2e-e190d0e03a3b"
      },
      "outputs": [
        {
          "data": {
            "text/plain": [
              "{'Avengers', 'Hitman', 'Hulk2', 'IronMan'}"
            ]
          },
          "execution_count": 60,
          "metadata": {},
          "output_type": "execute_result"
        }
      ],
      "source": [
        "set2"
      ]
    },
    {
      "cell_type": "code",
      "execution_count": null,
      "metadata": {
        "id": "FKu2YbuqUGtP"
      },
      "outputs": [],
      "source": [
        "## Difference update\n",
        "\n",
        "set2.difference_update(set1)"
      ]
    },
    {
      "cell_type": "code",
      "execution_count": null,
      "metadata": {
        "id": "Qk_EfaxtUGtP",
        "outputId": "de5ed585-36e1-40c9-c606-413e9eac69fa"
      },
      "outputs": [
        {
          "name": "stdout",
          "output_type": "stream",
          "text": [
            "{'Hulk2'}\n"
          ]
        }
      ],
      "source": [
        "print(set2)"
      ]
    },
    {
      "cell_type": "markdown",
      "metadata": {
        "id": "nRJvGGHwUGtP"
      },
      "source": [
        "## Dictionaries\n",
        "\n",
        "A dictionary is a collection which is unordered, changeable and indexed. In Python dictionaries are written with curly brackets, and they have keys and values."
      ]
    },
    {
      "cell_type": "code",
      "execution_count": null,
      "metadata": {
        "id": "Rjtc6nKtUGtP"
      },
      "outputs": [],
      "source": [
        "dic={}"
      ]
    },
    {
      "cell_type": "code",
      "execution_count": null,
      "metadata": {
        "id": "AhLUuZS6UGtP",
        "outputId": "731e3c4b-55b5-4e12-f6df-03b465fedaf7"
      },
      "outputs": [
        {
          "data": {
            "text/plain": [
              "dict"
            ]
          },
          "execution_count": 60,
          "metadata": {},
          "output_type": "execute_result"
        }
      ],
      "source": [
        "type(dic)"
      ]
    },
    {
      "cell_type": "code",
      "execution_count": null,
      "metadata": {
        "id": "xp9U6kiuUGtP",
        "outputId": "4c251cd0-5be0-4da1-bf85-e132296f483e"
      },
      "outputs": [
        {
          "data": {
            "text/plain": [
              "dict"
            ]
          },
          "execution_count": 70,
          "metadata": {},
          "output_type": "execute_result"
        }
      ],
      "source": [
        "type(dict())"
      ]
    },
    {
      "cell_type": "code",
      "execution_count": null,
      "metadata": {
        "id": "PoJan9NoUGtP"
      },
      "outputs": [],
      "source": [
        "set_ex={1,2,3,4,5}"
      ]
    },
    {
      "cell_type": "code",
      "execution_count": null,
      "metadata": {
        "id": "0n3HuqkIUGtQ",
        "outputId": "b5a960b2-ced6-4c59-d0a3-72ac6c9f504f"
      },
      "outputs": [
        {
          "data": {
            "text/plain": [
              "set"
            ]
          },
          "execution_count": 69,
          "metadata": {},
          "output_type": "execute_result"
        }
      ],
      "source": [
        "type(set_ex)"
      ]
    },
    {
      "cell_type": "code",
      "execution_count": null,
      "metadata": {
        "id": "tnZjmTtqUGtQ"
      },
      "outputs": [],
      "source": [
        "## Let create a dictionary\n",
        "\n",
        "my_dict={\"Car1\": \"Audi\", \"Car2\":\"BMW\",\"Car3\":\"Mercidies Benz\"}"
      ]
    },
    {
      "cell_type": "code",
      "execution_count": null,
      "metadata": {
        "id": "BdyPkI5TUGtQ",
        "outputId": "ce3815a2-863d-416f-fd7d-87187c83cdde"
      },
      "outputs": [
        {
          "data": {
            "text/plain": [
              "dict"
            ]
          },
          "execution_count": 64,
          "metadata": {},
          "output_type": "execute_result"
        }
      ],
      "source": [
        "type(my_dict)"
      ]
    },
    {
      "cell_type": "code",
      "execution_count": null,
      "metadata": {
        "id": "1aF1t0XyUGtQ",
        "outputId": "a19c80a5-82c8-4a8b-bcdf-6ed7ab96031a"
      },
      "outputs": [
        {
          "data": {
            "text/plain": [
              "'Audi'"
            ]
          },
          "execution_count": 73,
          "metadata": {},
          "output_type": "execute_result"
        }
      ],
      "source": [
        "##Access the item values based on keys\n",
        "\n",
        "my_dict['Car1']"
      ]
    },
    {
      "cell_type": "code",
      "execution_count": null,
      "metadata": {
        "id": "bT5xSgAeUGtQ",
        "outputId": "7cd50698-e25c-47b4-f347-4aa6c0cb2584"
      },
      "outputs": [
        {
          "name": "stdout",
          "output_type": "stream",
          "text": [
            "Car1\n",
            "Car2\n",
            "Car3\n"
          ]
        }
      ],
      "source": [
        "# We can even loop throught the dictionaries keys\n",
        "\n",
        "for x in my_dict:\n",
        "    print(x)"
      ]
    },
    {
      "cell_type": "code",
      "execution_count": null,
      "metadata": {
        "id": "OccsgoGIUGtQ",
        "outputId": "451f08ce-e256-4658-ac42-e5eee0964740"
      },
      "outputs": [
        {
          "name": "stdout",
          "output_type": "stream",
          "text": [
            "Audi\n",
            "BMW\n",
            "Mercidies Benz\n"
          ]
        }
      ],
      "source": [
        "# We can even loop throught the dictionaries values\n",
        "\n",
        "for x in my_dict.values():\n",
        "    print(x)"
      ]
    },
    {
      "cell_type": "code",
      "execution_count": null,
      "metadata": {
        "id": "54NCy0ThUGtR",
        "outputId": "e0e407ac-21ab-485f-c97f-28ccbccd4158"
      },
      "outputs": [
        {
          "name": "stdout",
          "output_type": "stream",
          "text": [
            "('Car1', 'Audi')\n",
            "('Car2', 'BMW')\n",
            "('Car3', 'Mercidies Benz')\n"
          ]
        }
      ],
      "source": [
        "# We can also check both keys and values\n",
        "for x in my_dict.items():\n",
        "    print(x)"
      ]
    },
    {
      "cell_type": "code",
      "execution_count": null,
      "metadata": {
        "id": "l-3FMRD3UGtR"
      },
      "outputs": [],
      "source": [
        "## Adding items in Dictionaries\n",
        "\n",
        "my_dict['car4']='Audi 2.0'"
      ]
    },
    {
      "cell_type": "code",
      "execution_count": null,
      "metadata": {
        "id": "_B6D8CCzUGtR",
        "outputId": "65463b97-b6b0-42b6-f453-9ab81e686def"
      },
      "outputs": [
        {
          "data": {
            "text/plain": [
              "{'Car1': 'Audi', 'Car2': 'BMW', 'Car3': 'Mercidies Benz', 'car4': 'Audi 2.0'}"
            ]
          },
          "execution_count": 75,
          "metadata": {},
          "output_type": "execute_result"
        }
      ],
      "source": [
        "my_dict"
      ]
    },
    {
      "cell_type": "code",
      "execution_count": null,
      "metadata": {
        "id": "Tf5SqNW1UGtR"
      },
      "outputs": [],
      "source": [
        "my_dict['Car1']='MAruti'"
      ]
    },
    {
      "cell_type": "code",
      "execution_count": null,
      "metadata": {
        "id": "_5NojdghUGtR",
        "outputId": "5b5d4013-e262-4d76-ff4c-1b092c4f2cda"
      },
      "outputs": [
        {
          "data": {
            "text/plain": [
              "{'Car1': 'MAruti', 'Car2': 'BMW', 'Car3': 'Mercidies Benz', 'car4': 'Audi 2.0'}"
            ]
          },
          "execution_count": 77,
          "metadata": {},
          "output_type": "execute_result"
        }
      ],
      "source": [
        "my_dict"
      ]
    },
    {
      "cell_type": "markdown",
      "metadata": {
        "id": "Io16F1pUUGtR"
      },
      "source": [
        "### Nested Dictionary"
      ]
    },
    {
      "cell_type": "code",
      "execution_count": null,
      "metadata": {
        "id": "MmZ7xa6KUGtR"
      },
      "outputs": [],
      "source": [
        "car1_model={'Mercedes':1960}\n",
        "car2_model={'Audi':1970}\n",
        "car3_model={'Ambassador':1980}\n",
        "\n",
        "car_type={'car1':car1_model,'car2':car2_model,'car3':car3_model}"
      ]
    },
    {
      "cell_type": "code",
      "execution_count": null,
      "metadata": {
        "id": "rBZpMnx5UGtR",
        "outputId": "5490cf31-cd41-4c77-a35f-1ad1ffead661"
      },
      "outputs": [
        {
          "name": "stdout",
          "output_type": "stream",
          "text": [
            "{'car1': {'Mercedes': 1960}, 'car2': {'Audi': 1970}, 'car3': {'Ambassador': 1980}}\n"
          ]
        }
      ],
      "source": [
        "print(car_type)"
      ]
    },
    {
      "cell_type": "code",
      "execution_count": null,
      "metadata": {
        "id": "PSkTPdmbUGtR",
        "outputId": "87306391-dfd2-4186-f159-cf584e35d830"
      },
      "outputs": [
        {
          "name": "stdout",
          "output_type": "stream",
          "text": [
            "{'Mercedes': 1960}\n"
          ]
        }
      ],
      "source": [
        "## Accessing the items in the dictionary\n",
        "\n",
        "print(car_type['car1'])"
      ]
    },
    {
      "cell_type": "code",
      "execution_count": null,
      "metadata": {
        "id": "DxopdVLqUGtS",
        "outputId": "053bf1f9-0647-4644-a1b5-ba1fb42f4e65"
      },
      "outputs": [
        {
          "name": "stdout",
          "output_type": "stream",
          "text": [
            "1960\n"
          ]
        }
      ],
      "source": [
        "print(car_type['car1']['Mercedes'])"
      ]
    },
    {
      "cell_type": "markdown",
      "metadata": {
        "id": "SZnJOmG8UGtS"
      },
      "source": [
        "## Tuples"
      ]
    },
    {
      "cell_type": "code",
      "execution_count": null,
      "metadata": {
        "id": "vT9LQGCzUGtS"
      },
      "outputs": [],
      "source": [
        "## create an empty Tuples\n",
        "\n",
        "my_tuple=tuple()"
      ]
    },
    {
      "cell_type": "code",
      "execution_count": null,
      "metadata": {
        "id": "Udg9RbrXUGtS",
        "outputId": "00b117ba-0db6-40d9-9f7f-fb2540b91ecb"
      },
      "outputs": [
        {
          "data": {
            "text/plain": [
              "tuple"
            ]
          },
          "execution_count": 102,
          "metadata": {},
          "output_type": "execute_result"
        }
      ],
      "source": [
        "type(my_tuple)"
      ]
    },
    {
      "cell_type": "code",
      "execution_count": null,
      "metadata": {
        "id": "JgTx5fKjUGtS"
      },
      "outputs": [],
      "source": [
        "my_tuple=()"
      ]
    },
    {
      "cell_type": "code",
      "execution_count": null,
      "metadata": {
        "id": "KQd4Z4pCUGtS",
        "outputId": "6929db8f-8da3-4221-9f01-460293fba9c5"
      },
      "outputs": [
        {
          "data": {
            "text/plain": [
              "tuple"
            ]
          },
          "execution_count": 104,
          "metadata": {},
          "output_type": "execute_result"
        }
      ],
      "source": [
        "type(my_tuple)"
      ]
    },
    {
      "cell_type": "code",
      "execution_count": null,
      "metadata": {
        "id": "ZL5xFL1kUGtT"
      },
      "outputs": [],
      "source": [
        "my_tuple=(\"Krish\",\"Ankur\",\"John\")"
      ]
    },
    {
      "cell_type": "code",
      "execution_count": null,
      "metadata": {
        "id": "VMcEQdA5UGtT"
      },
      "outputs": [],
      "source": [
        "my_tuple=('Hello','World')"
      ]
    },
    {
      "cell_type": "code",
      "execution_count": null,
      "metadata": {
        "id": "glzjBiBEUGtU",
        "outputId": "c85d8819-3145-47ec-d1ab-b608b5e7318b"
      },
      "outputs": [
        {
          "name": "stdout",
          "output_type": "stream",
          "text": [
            "<class 'tuple'>\n",
            "('Hello', 'World')\n"
          ]
        }
      ],
      "source": [
        "print(type(my_tuple))\n",
        "print(my_tuple)"
      ]
    },
    {
      "cell_type": "code",
      "execution_count": null,
      "metadata": {
        "id": "sJFEtZMcUGtV",
        "outputId": "08a4c1a4-975b-44a2-f8ee-ba0639e04559"
      },
      "outputs": [
        {
          "data": {
            "text/plain": [
              "tuple"
            ]
          },
          "execution_count": 107,
          "metadata": {},
          "output_type": "execute_result"
        }
      ],
      "source": [
        "type(my_tuple)"
      ]
    },
    {
      "cell_type": "code",
      "execution_count": null,
      "metadata": {
        "id": "pTXyU9fEUGtV",
        "outputId": "b883b032-1dd1-48cc-9f47-0af983691802"
      },
      "outputs": [
        {
          "data": {
            "text/plain": [
              "1"
            ]
          },
          "execution_count": 110,
          "metadata": {},
          "output_type": "execute_result"
        }
      ],
      "source": [
        "## Inbuilt function\n",
        "my_tuple.count('Krish')"
      ]
    },
    {
      "cell_type": "code",
      "execution_count": null,
      "metadata": {
        "id": "GvevBzSPUGtV",
        "outputId": "f1d451e7-8177-4518-8432-0f0fecfdc22b"
      },
      "outputs": [
        {
          "data": {
            "text/plain": [
              "1"
            ]
          },
          "execution_count": 117,
          "metadata": {},
          "output_type": "execute_result"
        }
      ],
      "source": [
        "my_tuple.index('Ankur')"
      ]
    }
  ],
  "metadata": {
    "kernelspec": {
      "display_name": "Python 3",
      "language": "python",
      "name": "python3"
    },
    "language_info": {
      "codemirror_mode": {
        "name": "ipython",
        "version": 3
      },
      "file_extension": ".py",
      "mimetype": "text/x-python",
      "name": "python",
      "nbconvert_exporter": "python",
      "pygments_lexer": "ipython3",
      "version": "3.6.7"
    },
    "colab": {
      "provenance": []
    }
  },
  "nbformat": 4,
  "nbformat_minor": 0
}