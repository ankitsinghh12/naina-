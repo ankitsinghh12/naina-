{
 "cells": [
  {
   "cell_type": "code",
   "execution_count": 3,
   "id": "2e101f11",
   "metadata": {},
   "outputs": [
    {
     "name": "stdout",
     "output_type": "stream",
     "text": [
      "This is Ani\n"
     ]
    }
   ],
   "source": [
    "print(\"This is Ani\")\n",
    "\n"
   ]
  },
  {
   "cell_type": "markdown",
   "id": "cffbf746",
   "metadata": {},
   "source": [
    "# ARITHMETIC OPERATOR\n",
    "\n"
   ]
  },
  {
   "cell_type": "markdown",
   "id": "c851cbce",
   "metadata": {},
   "source": []
  },
  {
   "cell_type": "code",
   "execution_count": 58,
   "id": "ce0b5008",
   "metadata": {},
   "outputs": [
    {
     "name": "stdout",
     "output_type": "stream",
     "text": [
      "7\n",
      "3\n",
      "10\n",
      "2.5\n",
      "1\n",
      "2\n",
      "25\n"
     ]
    }
   ],
   "source": [
    "x = 5\n",
    "y = 2 \n",
    "\n",
    "print (x+y) \n",
    "print (x-y) \n",
    "print (x*y) \n",
    "print (x/y) \n",
    "print (x % y)       #1)modulus operator \n",
    "print (x // y)      #2)floor division operator \n",
    "print (x ** y)      #3)exponent operator "
   ]
  },
  {
   "cell_type": "markdown",
   "id": "bcb0a0c5",
   "metadata": {},
   "source": [
    "# RELATIONAL OPERATOR \n",
    "\n"
   ]
  },
  {
   "cell_type": "code",
   "execution_count": 59,
   "id": "39bf291c",
   "metadata": {},
   "outputs": [
    {
     "name": "stdout",
     "output_type": "stream",
     "text": [
      "False\n",
      "True\n",
      "False\n",
      "True\n",
      "True\n",
      "False\n"
     ]
    }
   ],
   "source": [
    "x = 4\n",
    "y = 6 \n",
    "\n",
    "print (x>y)      #1)check if x is greater than y \n",
    "print (x<y)      #2)check x is less than y \n",
    "print (x == y)   #3)check x is equal to y \n",
    "print (x != y)   #4)check x is not equal to y \n",
    "print (x <= y)   #5)check x is less than or equal to y\n",
    "print (x >= y)   #6)check x is greater than or equal to y"
   ]
  },
  {
   "cell_type": "markdown",
   "id": "29420da0",
   "metadata": {},
   "source": [
    "# LOGICAL OPERATOR (and,or operators)\n",
    "\n"
   ]
  },
  {
   "cell_type": "code",
   "execution_count": 60,
   "id": "76e3ff3d",
   "metadata": {},
   "outputs": [
    {
     "name": "stdout",
     "output_type": "stream",
     "text": [
      "False\n",
      "False\n",
      "False\n",
      "True\n",
      "True\n",
      "True\n",
      "True\n",
      "False\n"
     ]
    }
   ],
   "source": [
    "a = True \n",
    "b = False \n",
    "\n",
    "print (b & b) \n",
    "print (a & b) \n",
    "print (b & a)\n",
    "print (a & a)\n",
    "\n",
    "print (a | b)\n",
    "print (b | a)\n",
    "print (a | a)\n",
    "print (b | b)"
   ]
  },
  {
   "cell_type": "markdown",
   "id": "a65b6b48",
   "metadata": {},
   "source": [
    "# VARIABLE - temporary storage place \n",
    "\n",
    "\n",
    "\n"
   ]
  },
  {
   "cell_type": "code",
   "execution_count": 61,
   "id": "9df15927",
   "metadata": {},
   "outputs": [
    {
     "name": "stdout",
     "output_type": "stream",
     "text": [
      "rob\n",
      "tom\n",
      "brady\n"
     ]
    }
   ],
   "source": [
    "student = \"rob\"\n",
    "print (student)\n",
    "student = \"tom\"\n",
    "print (student)\n",
    "student = \"brady\"\n",
    "print (student)"
   ]
  },
  {
   "cell_type": "markdown",
   "id": "ae2d97e2",
   "metadata": {},
   "source": [
    "# DATATYPES - every variable is assosiated with a data type\n",
    "\n",
    "\n"
   ]
  },
  {
   "cell_type": "code",
   "execution_count": 62,
   "id": "198190b0",
   "metadata": {},
   "outputs": [
    {
     "name": "stdout",
     "output_type": "stream",
     "text": [
      "<class 'int'>\n",
      "<class 'float'>\n",
      "<class 'bool'>\n",
      "<class 'str'>\n",
      "<class 'complex'>\n"
     ]
    }
   ],
   "source": [
    "a1 = 10               #1)integer\n",
    "print (type(a1))\n",
    "a2 = 3.14             #2)float\n",
    "print (type(a2))\n",
    "a3 = True             #3)boolean \n",
    "print (type(a3))\n",
    "a4 = \"hello world\"    #4)string\n",
    "print (type(a4))       \n",
    "a5 = 3+4j             #5)complex\n",
    "print (type(a5))"
   ]
  },
  {
   "cell_type": "markdown",
   "id": "754636b8",
   "metadata": {},
   "source": [
    "# PYTHON TOKENS - smallest meaningful component is a program \n",
    "\n",
    "**1) keywords**      - keywords are special reserved words\n",
    "\n",
    "**2) identifiers**   - Identifiers are names used for variables, functions or objects\n",
    "                 - No special character expect underscore\n",
    "                 - Identifiers are case sensitive\n",
    "                 - First letter cannot be a digit\n",
    "            \n",
    "**3) literals**      - literals are constant in python \n",
    "\n",
    "**4) operators**"
   ]
  },
  {
   "cell_type": "markdown",
   "id": "f48e9b9c",
   "metadata": {},
   "source": [
    "# STRINGS - strings are sequence of characters enclosed within single quotes(''), double quotes(\" \"), or triple quotes('''  ''')\n",
    "\n"
   ]
  },
  {
   "cell_type": "code",
   "execution_count": 65,
   "id": "655545bb",
   "metadata": {},
   "outputs": [
    {
     "name": "stdout",
     "output_type": "stream",
     "text": [
      "this is my first string\n",
      "this is my second string\n",
      "this is my last and final string, we use this string when we have to code multiple lines of code.\n"
     ]
    }
   ],
   "source": [
    "str1 = 'this is my first string'\n",
    "print(str1)\n",
    "str2 = \"this is my second string\"\n",
    "print(str2)\n",
    "str3 = '''this is my last and final string, we use this string when we have to code multiple lines of code.'''\n",
    "print(str3)"
   ]
  },
  {
   "cell_type": "markdown",
   "id": "7515e466",
   "metadata": {},
   "source": [
    "# string functions"
   ]
  },
  {
   "cell_type": "code",
   "execution_count": 78,
   "id": "32f42c20",
   "metadata": {},
   "outputs": [
    {
     "name": "stdout",
     "output_type": "stream",
     "text": [
      "15\n",
      "my name is john\n",
      "MY NAME IS JOHN\n",
      "My name is joan\n",
      "2\n",
      "16\n"
     ]
    },
    {
     "data": {
      "text/plain": [
       "['ani l', 'ves l', 'ves burger']"
      ]
     },
     "execution_count": 78,
     "metadata": {},
     "output_type": "execute_result"
    }
   ],
   "source": [
    "my_string = \"My name is john\"\n",
    "\n",
    "print (len(my_string))                  #1)for finding the length of the string\n",
    "print (my_string.lower())               #2)converting the string into lower case\n",
    "print (my_string.upper())               #3)converting the string into upper case\n",
    "print (my_string.replace('h','a'))      #4)replacing the string\n",
    "\n",
    "new_string = \"ani loves loves burger\"\n",
    "\n",
    "print (new_string.count(\"loves\"))       #5)Numer of occurrences of substring\n",
    "print (new_string.find(\"burger\"))       #6)finding the index of substring\n",
    "new_string.split('o')                   #7)splitting a string. this will split all the items before and after o\n"
   ]
  },
  {
   "cell_type": "markdown",
   "id": "26a6f459",
   "metadata": {},
   "source": [
    "# extracting individuals charatcers using indexing "
   ]
  },
  {
   "cell_type": "code",
   "execution_count": 69,
   "id": "f4024c78",
   "metadata": {},
   "outputs": [
    {
     "name": "stdout",
     "output_type": "stream",
     "text": [
      "M\n",
      "n\n",
      "me i\n"
     ]
    }
   ],
   "source": [
    "my_string = \"My name is john\"\n",
    "print (my_string[0])\n",
    "print (my_string[-1])\n",
    "print (my_string[5:9] )"
   ]
  },
  {
   "cell_type": "markdown",
   "id": "3fe2467a",
   "metadata": {},
   "source": [
    "# DATA STRUCTUTES IN PYTHON\n",
    "\n",
    "**1) Tuple** - Tuple is an ordered collection of elements enclosed within ( ). Tuples are immutable i.e you cant change the  \n",
    "               values once you stored it. you can store all type of values.\n",
    "               \n",
    "**2) List**  - List is an odered collection of elements enclosed within [ ]. lists are mutable unlike tuples, i.e you can change the values. you can store all type of values.\n",
    "\n",
    "\n",
    "**3) Dictionary** - Dictionary is an unordered collection of key-value pairs enclosed with { }. Dictionary is mutable.\n",
    "\n",
    "\n",
    "**4) Set**  - Set is an unordered and unindexed collection of elements enclosed with { }. Duplicates are not allowed in Set. "
   ]
  },
  {
   "cell_type": "markdown",
   "id": "6a387720",
   "metadata": {},
   "source": [
    "# **tuples basic operation** "
   ]
  },
  {
   "cell_type": "code",
   "execution_count": 84,
   "id": "4cf0ac08",
   "metadata": {},
   "outputs": [
    {
     "name": "stdout",
     "output_type": "stream",
     "text": [
      "1\n",
      "False\n",
      "('a', True, 2)\n",
      "6\n",
      "(1, 2, 3, 4, 5, 6)\n",
      "(1, 2, 3, 1, 2, 3, 1, 2, 3)\n",
      "(1, 2, 3, 1, 2, 3, 1, 2, 3, 4, 5, 6)\n",
      "1\n",
      "6\n"
     ]
    }
   ],
   "source": [
    "tup1=(1,\"a\",True,2,\"b\",False)\n",
    "print(tup1[0])                   #1)extracting the first element\n",
    "print(tup1[-1])                  #2)extracting the last element\n",
    "print(tup1[1:4])                 #3)extracting from 1 to 4\n",
    "print(len(tup1))                 #4)finding the length of the tuple\n",
    "\n",
    "tup2 = (1,2,3)\n",
    "tup3 = (4,5,6)\n",
    "print(tup2 + tup3)               #5)concatenatinf tuples\n",
    "print(tup2*3)                    #6)repeating 2nd tuple, 3 times\n",
    "print(tup2*3 + tup3)             #7)repeating and concatenating\n",
    "print(min(tup2))                 #8)minimum value\n",
    "print(max(tup3))                 #9)maximum value   "
   ]
  },
  {
   "cell_type": "markdown",
   "id": "e1c02905",
   "metadata": {},
   "source": [
    "# lists basics operation"
   ]
  },
  {
   "cell_type": "code",
   "execution_count": 17,
   "id": "79d2abf6",
   "metadata": {},
   "outputs": [
    {
     "name": "stdout",
     "output_type": "stream",
     "text": [
      "[1, 'a', True, 2, 'b', False]\n",
      "[1, 'a', True, 2, 'b', False]\n",
      "[100, 'a', True, 2, 'b', False]\n",
      "[100, 'a', True, 2, 'b']\n",
      "[100, 'a', True, 2]\n",
      "[2, True, 'a', 100]\n",
      "[2, 'sparta', True, 'a', 100]\n",
      "['apple', 'banana', 'mango']\n",
      "[2, 'sparta', True, 'a', 100, 'apple', 'banana', 'mango']\n",
      "[2, 'sparta', True, 'a', 100, 2, 'sparta', True, 'a', 100, 2, 'sparta', True, 'a', 100]\n"
     ]
    }
   ],
   "source": [
    "l1=[1,\"a\",True,2,\"b\",False]\n",
    "\n",
    "[l1[1]]\n",
    "print (l1)\n",
    "\n",
    "[l1[1:4]]\n",
    "print (l1)\n",
    "\n",
    "l1=[1,\"a\",True,2,\"b\",False]                       #1)Changing the element at 0th index\n",
    "l1[0]=100\n",
    "print (l1)\n",
    "\n",
    "l1.pop()                                          #2)Popping the last element\n",
    "print (l1)\n",
    "\n",
    "l1.pop()                                          #3)Popping the last element\n",
    "print (l1)\n",
    "\n",
    "l1.reverse()                                      #4)Reversing elements of a list\n",
    "print(l1)\n",
    "\n",
    "l1.insert(1,\"sparta\")                             #5)inserting element at a specifies index\n",
    "print(l1)\n",
    "\n",
    "l2 = [\"mango\",\"apple\",\"banana\"]                   #6)sorting a list\n",
    "l2.sort()                                         \n",
    "print(l2)\n",
    "\n",
    "print ( l1+l2 )                                    #7)concatenating lists\n",
    "\n",
    "print (l1*3)                                       #8)repeating the elements"
   ]
  },
  {
   "cell_type": "markdown",
   "id": "981834a2",
   "metadata": {},
   "source": [
    "# Dictionary basics operations"
   ]
  },
  {
   "cell_type": "code",
   "execution_count": 40,
   "id": "57c24232",
   "metadata": {},
   "outputs": [
    {
     "name": "stdout",
     "output_type": "stream",
     "text": [
      "dict_keys(['Apple', 'Orange', 'Banana', 'Guava'])\n",
      "dict_values([10, 20, 30, 40])\n",
      "{'Apple': 10, 'Orange': 20, 'Banana': 30, 'Guava': 40, 'Mango': 50}\n",
      "{'Apple': 100, 'Orange': 20, 'Banana': 30, 'Guava': 40, 'Mango': 50}\n",
      "{'Apple': 100, 'Banana': 30, 'Guava': 40, 'Mango': 50}\n",
      "{'shawarma': 100, 'burger': 60, 'pizza': 99, 'kachodi': 12}\n"
     ]
    }
   ],
   "source": [
    "fruit={\"Apple\":10,\"Orange\":20,\"Banana\":30,\"Guava\":40}\n",
    "\n",
    "print (fruit.keys())                                       #1)extracting keys\n",
    "\n",
    "print (fruit.values())                                     #2)extracting values\n",
    "\n",
    "fruit[\"Mango\"]=50                                          #3)adding a new element\n",
    "print (fruit)\n",
    "\n",
    "fruit[\"Apple\"]=100                                         #4)Changing an exsisting elements \n",
    "print (fruit)\n",
    "\n",
    "fruit.pop(\"Orange\")                                        #5)popping an elements \n",
    "print (fruit)\n",
    "\n",
    "food1={\"shawarma\":100,\"burger\":60}\n",
    "food2={\"pizza\":99,\"kachodi\":12}\n",
    "food1.update(food2)\n",
    "print (food1)                                             #6)update one dictionary's elements with another "
   ]
  },
  {
   "cell_type": "markdown",
   "id": "01e1055b",
   "metadata": {},
   "source": [
    "# sets basic operations"
   ]
  },
  {
   "cell_type": "code",
   "execution_count": 49,
   "id": "af522b92",
   "metadata": {},
   "outputs": [
    {
     "name": "stdout",
     "output_type": "stream",
     "text": [
      "{1, 3.14, 'sparta'}\n",
      "{1, 3.14, 'sparta', 35}\n",
      "{1, 3.14, 35, 'sparta', 'Hello'}\n",
      "{1, 3.14, 35, 'sparta'}\n",
      "{1, 'ani', 3.14, 35, 'sparta', 10, 20}\n",
      "{1, 2, 3, 'c', 'b', 'a'}\n",
      "{5, 6}\n"
     ]
    }
   ],
   "source": [
    "s1 = {1,3.14,\"sparta\"}\n",
    "print (s1)\n",
    "\n",
    "s1 = {1,3.14,\"sparta\",3.14,35}                          #2)duplicates are not allowed\n",
    "print (s1)\n",
    "\n",
    "s1.add(\"Hello\")                                         #3)update one dictionary's elemets with another\n",
    "print (s1)\n",
    "\n",
    "s1.remove(\"Hello\")                                      #4)removing an elements\n",
    "print (s1)\n",
    "\n",
    "s1.update([10,20,\"ani\"])                                #5)updating multiple elements RANDOMLY\n",
    "print (s1)\n",
    "\n",
    "s2= {1,2,3}                                        \n",
    "s3= {\"a\",\"b\",\"c\"}\n",
    "print (s2.union(s3))                                    #6)union of two sets\n",
    "\n",
    "s4= {1,2,3,4,5,6}\n",
    "s5= {5,6,7,8} \n",
    "print (s4.intersection(s5))                             #7)intersection of two sets\n"
   ]
  },
  {
   "cell_type": "markdown",
   "id": "bdd98242",
   "metadata": {},
   "source": [
    "# if else elif statements  "
   ]
  },
  {
   "cell_type": "code",
   "execution_count": 50,
   "id": "1779eccd",
   "metadata": {},
   "outputs": [
    {
     "name": "stdout",
     "output_type": "stream",
     "text": [
      "a is smaller than b\n"
     ]
    }
   ],
   "source": [
    "a=10\n",
    "b=20\n",
    "\n",
    "if b<a:\n",
    "    print(\"b is smaller than a\")\n",
    "else:\n",
    "    print(\"a is smaller than b\")"
   ]
  },
  {
   "cell_type": "code",
   "execution_count": 52,
   "id": "14d80814",
   "metadata": {},
   "outputs": [
    {
     "name": "stdout",
     "output_type": "stream",
     "text": [
      "c is the greatest\n"
     ]
    }
   ],
   "source": [
    "a=10\n",
    "b=20\n",
    "c=30\n",
    "\n",
    "if (a>b) & (a>c):\n",
    "    print(\"a is the greatest\")\n",
    "elif (b>a) & (b>c):\n",
    "    print (\"b is the greatest\")\n",
    "else: \n",
    "    print(\"c is the greatest\")"
   ]
  },
  {
   "cell_type": "markdown",
   "id": "7a85b04d",
   "metadata": {},
   "source": [
    "# if else with tuple, lists and dict"
   ]
  },
  {
   "cell_type": "code",
   "execution_count": 58,
   "id": "9398d3de",
   "metadata": {},
   "outputs": [
    {
     "name": "stdout",
     "output_type": "stream",
     "text": [
      "value z is not present in tup1\n",
      "['a', 'z', 'c']\n",
      "{'k1': 10, 'k2': 20, 'k3': 130}\n"
     ]
    }
   ],
   "source": [
    "#1) if with tuple\n",
    "\n",
    "tup1=(1,2,3,4)\n",
    "\n",
    "if 'z' in tup1:\n",
    "    print(\"value z is present in tup1\")\n",
    "else:\n",
    "    print(\"value z is not present in tup1\")\n",
    "    \n",
    "    \n",
    "#2)if with list\n",
    "\n",
    "l1=['a','b','c']\n",
    "\n",
    "if l1[1]=='b':\n",
    "    l1[1]='z'\n",
    "    \n",
    "print (l1)\n",
    "\n",
    "#3) if with dictionary \n",
    "\n",
    "d1= {'k1':10, 'k2':20, 'k3':30}\n",
    "\n",
    "if d1['k3'] == 30:\n",
    "    d1['k3']=d1['k3']+100\n",
    "    \n",
    "print (d1)"
   ]
  },
  {
   "cell_type": "markdown",
   "id": "60b80dba",
   "metadata": {},
   "source": [
    "# while loop "
   ]
  },
  {
   "cell_type": "code",
   "execution_count": 59,
   "id": "7c3d4dc5",
   "metadata": {},
   "outputs": [
    {
     "name": "stdout",
     "output_type": "stream",
     "text": [
      "1\n",
      "2\n",
      "3\n",
      "4\n",
      "5\n",
      "6\n",
      "7\n",
      "8\n",
      "9\n",
      "10\n"
     ]
    }
   ],
   "source": [
    "#1\n",
    "\n",
    "i=1\n",
    "while i<=10:\n",
    "    print(i)\n",
    "    i=i+1"
   ]
  },
  {
   "cell_type": "code",
   "execution_count": 1,
   "id": "f0dbb6b6",
   "metadata": {},
   "outputs": [
    {
     "name": "stdout",
     "output_type": "stream",
     "text": [
      "2  *  1  =  2\n",
      "2  *  2  =  4\n",
      "2  *  3  =  6\n",
      "2  *  4  =  8\n",
      "2  *  5  =  10\n",
      "2  *  6  =  12\n",
      "2  *  7  =  14\n",
      "2  *  8  =  16\n",
      "2  *  9  =  18\n",
      "2  *  10  =  20\n"
     ]
    }
   ],
   "source": [
    "#2\n",
    "\n",
    "i=1\n",
    "n=2\n",
    "while  i<=10:\n",
    "    print (n ,\" * \",i, \" = \", n*i)\n",
    "    i=i+1"
   ]
  },
  {
   "cell_type": "code",
   "execution_count": 2,
   "id": "a9d1b1f1",
   "metadata": {},
   "outputs": [
    {
     "name": "stdout",
     "output_type": "stream",
     "text": [
      "[101, 102, 103, 104, 105]\n"
     ]
    }
   ],
   "source": [
    "#while wit list \n",
    "\n",
    "l1=[1,2,3,4,5]\n",
    "i=0\n",
    "while i<len(l1):\n",
    "    l1[i]=l1[i]+100\n",
    "    i=i+1\n",
    "    \n",
    "print (l1)"
   ]
  },
  {
   "cell_type": "markdown",
   "id": "df7f77f9",
   "metadata": {},
   "source": [
    "# for loop "
   ]
  },
  {
   "cell_type": "code",
   "execution_count": 3,
   "id": "da3ecea4",
   "metadata": {},
   "outputs": [
    {
     "name": "stdout",
     "output_type": "stream",
     "text": [
      "mango\n",
      "apple\n",
      "grapes\n",
      "orange\n"
     ]
    }
   ],
   "source": [
    "l1 = ['mango','apple','grapes','orange']\n",
    "\n",
    "for i in l1:\n",
    "    print (i)"
   ]
  },
  {
   "cell_type": "code",
   "execution_count": 6,
   "id": "7567b7d6",
   "metadata": {},
   "outputs": [
    {
     "name": "stdout",
     "output_type": "stream",
     "text": [
      "orange chair\n",
      "orange book\n",
      "orange laptop\n",
      "black chair\n",
      "black book\n",
      "black laptop\n",
      "white chair\n",
      "white book\n",
      "white laptop\n"
     ]
    }
   ],
   "source": [
    "l1=[\"orange\",'black','white']\n",
    "l2=['chair','book','laptop']\n",
    "\n",
    "for i in l1:\n",
    "    for j in l2:\n",
    "        print(i,j)"
   ]
  },
  {
   "cell_type": "markdown",
   "id": "7b6babea",
   "metadata": {},
   "source": [
    "# FUNCTIONS - **function is a block of code that performs a specific task**"
   ]
  },
  {
   "cell_type": "code",
   "execution_count": 7,
   "id": "2436dacc",
   "metadata": {},
   "outputs": [
    {
     "name": "stdout",
     "output_type": "stream",
     "text": [
      "Hello world\n"
     ]
    }
   ],
   "source": [
    "#1\n",
    "def hello():\n",
    "    print(\"Hello world\")\n",
    "    \n",
    "hello()"
   ]
  },
  {
   "cell_type": "code",
   "execution_count": 8,
   "id": "f6e8c1da",
   "metadata": {},
   "outputs": [
    {
     "data": {
      "text/plain": [
       "19"
      ]
     },
     "execution_count": 8,
     "metadata": {},
     "output_type": "execute_result"
    }
   ],
   "source": [
    "#2\n",
    "def add_10(x):\n",
    "    return(x+10)\n",
    "add_10(9)"
   ]
  },
  {
   "cell_type": "code",
   "execution_count": 10,
   "id": "6f14bddc",
   "metadata": {},
   "outputs": [
    {
     "name": "stdout",
     "output_type": "stream",
     "text": [
      "10 is even\n"
     ]
    }
   ],
   "source": [
    "#3\n",
    "def odd_even(x):\n",
    "    if x%2==0:\n",
    "        print(x, \"is even\")\n",
    "    else:\n",
    "        print(x, \"is odd\")\n",
    "        \n",
    "odd_even(10)"
   ]
  },
  {
   "cell_type": "markdown",
   "id": "62c973b6",
   "metadata": {},
   "source": [
    "# lambda function"
   ]
  },
  {
   "cell_type": "code",
   "execution_count": 12,
   "id": "45bca03e",
   "metadata": {},
   "outputs": [
    {
     "data": {
      "text/plain": [
       "1000"
      ]
     },
     "execution_count": 12,
     "metadata": {},
     "output_type": "execute_result"
    }
   ],
   "source": [
    "g=lambda x: x*x*x\n",
    "g(10)"
   ]
  },
  {
   "cell_type": "code",
   "execution_count": 13,
   "id": "ae142a7e",
   "metadata": {},
   "outputs": [
    {
     "data": {
      "text/plain": [
       "[34, 56, 24, 66, 64]"
      ]
     },
     "execution_count": 13,
     "metadata": {},
     "output_type": "execute_result"
    }
   ],
   "source": [
    "#lambda with filter\n",
    "\n",
    "l1=[87,34,56,35,65,24,25,65,66,64]\n",
    "final_list=list(filter(lambda x:(x%2==0),l1))                    #we filetring out all the odd numbers\n",
    "\n",
    "final_list"
   ]
  },
  {
   "cell_type": "code",
   "execution_count": 14,
   "id": "2c3a88df",
   "metadata": {},
   "outputs": [
    {
     "data": {
      "text/plain": [
       "[2, 4, 6, 8, 10, 12, 14]"
      ]
     },
     "execution_count": 14,
     "metadata": {},
     "output_type": "execute_result"
    }
   ],
   "source": [
    "#lambda with map\n",
    "\n",
    "l1=[1,2,3,4,5,6,7]\n",
    "list_final_new=list(map(lambda x:x*2,l1))                        #multiply the number by 2\n",
    "list_final_new"
   ]
  },
  {
   "cell_type": "code",
   "execution_count": 15,
   "id": "c5dfad64",
   "metadata": {},
   "outputs": [
    {
     "data": {
      "text/plain": [
       "28"
      ]
     },
     "execution_count": 15,
     "metadata": {},
     "output_type": "execute_result"
    }
   ],
   "source": [
    "#reduce function and lambda\n",
    "\n",
    "l1=[1,2,3,4,5,6,7]\n",
    "from functools import reduce \n",
    "sum=reduce(lambda x,y: x+y, l1)                                #adding all the numbers in l1\n",
    "\n",
    "sum\n"
   ]
  },
  {
   "cell_type": "markdown",
   "id": "41310e02",
   "metadata": {},
   "source": [
    "# creating the first class "
   ]
  },
  {
   "cell_type": "code",
   "execution_count": 33,
   "id": "427e8c52",
   "metadata": {},
   "outputs": [
    {
     "name": "stdout",
     "output_type": "stream",
     "text": [
      "make a call\n",
      "play a game\n"
     ]
    }
   ],
   "source": [
    "class Phone:                          #name of the class always starts with a capital letter \n",
    "    \n",
    "    def make_call(self):              #self will be the first parameter in all the methods that we create inside the class\n",
    "        print(\"make a call\")\n",
    "        \n",
    "    def play_game(self):\n",
    "        print(\"play a game\")\n",
    "        \n",
    "p1=Phone()\n",
    "\n",
    "p1.make_call()\n",
    "p1.play_game()"
   ]
  },
  {
   "cell_type": "code",
   "execution_count": 25,
   "id": "69e8ace0",
   "metadata": {},
   "outputs": [
    {
     "name": "stdout",
     "output_type": "stream",
     "text": [
      "everyone loves football\n",
      "no one likes to play baseball\n"
     ]
    }
   ],
   "source": [
    "class Game:\n",
    "    \n",
    "    def football(self):\n",
    "        print(\"everyone loves football\")\n",
    "        \n",
    "    def baseball(self):\n",
    "        print(\"no one likes to play baseball\")\n",
    "        \n",
    "g1=Game()\n",
    "g1.football()\n",
    "g1.baseball()"
   ]
  },
  {
   "cell_type": "code",
   "execution_count": 30,
   "id": "3cb065fd",
   "metadata": {},
   "outputs": [
    {
     "name": "stdout",
     "output_type": "stream",
     "text": [
      "blue\n",
      "5000\n"
     ]
    }
   ],
   "source": [
    "#adding parameters to the class\n",
    "\n",
    "class Phone:  \n",
    "    \n",
    "    def set_color(self,color):\n",
    "        self.color=color\n",
    "        \n",
    "    def set_cost(self,cost):\n",
    "        self.cost=cost\n",
    "        \n",
    "    def show_color(self):\n",
    "        return self.color\n",
    "    \n",
    "    def show_cost(self):\n",
    "        return self.cost\n",
    "    \n",
    "    def make_call(self):               \n",
    "        print(\"make a call\")\n",
    "        \n",
    "    def play_game(self):\n",
    "        print(\"play a game\")\n",
    "        \n",
    "p2=Phone()\n",
    "    \n",
    "p2.set_color(\"blue\")\n",
    "p2.set_cost(5000)\n",
    "\n",
    "print (p2.show_color())\n",
    "print (p2.show_cost())\n"
   ]
  },
  {
   "cell_type": "code",
   "execution_count": 36,
   "id": "0ec33bdc",
   "metadata": {},
   "outputs": [
    {
     "name": "stdout",
     "output_type": "stream",
     "text": [
      "Name of employee is Sam\n",
      "Age of employee is  32\n",
      "salary of employee is  85000\n",
      "Gender of employee is  male\n"
     ]
    }
   ],
   "source": [
    "#creating a class with constructor \n",
    "\n",
    "class Employee:\n",
    "    def __init__(self, name , age , salary , gender):                  #init method acts as the constructor \n",
    "        \n",
    "        self.name = name\n",
    "        self.age = age\n",
    "        self.salary = salary\n",
    "        self.gender = gender\n",
    "        \n",
    "    def employee_details(self):\n",
    "        print(\"Name of employee is\" , self.name)\n",
    "        print(\"Age of employee is \", self.age)\n",
    "        print(\"salary of employee is \", self.salary)\n",
    "        print(\"Gender of employee is \", self.gender)\n",
    "        \n",
    "e1= Employee('Sam',32, 85000,\"male\")                                   #instantiating the 'e1' objects\n",
    "e1.employee_details()                                                    "
   ]
  },
  {
   "cell_type": "markdown",
   "id": "3d929d4f",
   "metadata": {},
   "source": [
    "# SINGLE INHERITANCE  \n",
    "\n",
    "**with inheritance one class can derive the properties of another class**"
   ]
  },
  {
   "cell_type": "code",
   "execution_count": 44,
   "id": "67276418",
   "metadata": {},
   "outputs": [
    {
     "name": "stdout",
     "output_type": "stream",
     "text": [
      "I am a vehicle\n",
      "Mileage of Vehicle is 500\n",
      "cost of Vehical is 500\n"
     ]
    }
   ],
   "source": [
    "class Vehicle:\n",
    "    \n",
    "    def __init__(self,mileage, cost):\n",
    "        self.mileage = mileage\n",
    "        self.cost = cost\n",
    "                                                                               #creating the base class\n",
    "    def show_details(self):\n",
    "        print(\"I am a vehicle\")\n",
    "        print(\"Mileage of Vehicle is\", self.mileage)\n",
    "        print(\"cost of Vehical is\", self.cost)\n",
    "        \n",
    "v1 = Vehicle(500,500)\n",
    "v1.show_details()                                                              #instantiating the objects for base class"
   ]
  },
  {
   "cell_type": "code",
   "execution_count": 45,
   "id": "49c69dd7",
   "metadata": {},
   "outputs": [
    {
     "name": "stdout",
     "output_type": "stream",
     "text": [
      "I am a vehicle\n",
      "Mileage of Vehicle is 200\n",
      "cost of Vehical is 1200\n"
     ]
    }
   ],
   "source": [
    "class Car(Vehicle):\n",
    "    def show_car(self):\n",
    "        print(\"I am a car\")                             #creating the child class\n",
    "        \n",
    "c1= Car(200,1200)\n",
    "c1.show_details()                                       #instantiating the object for child class"
   ]
  },
  {
   "cell_type": "code",
   "execution_count": 46,
   "id": "649460b3",
   "metadata": {},
   "outputs": [
    {
     "name": "stdout",
     "output_type": "stream",
     "text": [
      "I am a car\n"
     ]
    }
   ],
   "source": [
    "c1.show_car()                                           #invoking the child class method "
   ]
  },
  {
   "cell_type": "code",
   "execution_count": 47,
   "id": "7d2be098",
   "metadata": {},
   "outputs": [
    {
     "name": "stdout",
     "output_type": "stream",
     "text": [
      "I am a vehicle\n",
      "Mileage of Vehicle is 20\n",
      "cost of Vehical is 12000\n",
      "I am a car\n",
      "Number of tyres are 4\n",
      "Value pf horse power is 300\n"
     ]
    }
   ],
   "source": [
    "#over-riding init method \n",
    "\n",
    "class Car(Vehicle):\n",
    "    \n",
    "    def __init__(self, mileage,cost,tyres,hp):\n",
    "        super().__init__(mileage,cost)\n",
    "        self.tyres = tyres\n",
    "        self.hp = hp\n",
    "        \n",
    "    def show_car_details(self):\n",
    "        print(\"I am a car\")\n",
    "        print(\"Number of tyres are\", self.tyres)\n",
    "        print(\"Value pf horse power is\", self.hp)                          #over-riding init method\n",
    "        \n",
    "c1 = Car(20,12000,4,300)\n",
    "c1.show_details()                                                          #invoking SHOW_DETAILS() method from parent class\n",
    "c1.show_car_details()                                                      #invoking SHOW_CAR_DETAILS() method from child class"
   ]
  },
  {
   "cell_type": "markdown",
   "id": "25adefb1",
   "metadata": {},
   "source": [
    "# MULTIPLE INHERITANCE \n",
    "\n",
    "**In multiple inheritance, the child inherits from more than 1 parenrs class**"
   ]
  },
  {
   "cell_type": "code",
   "execution_count": 49,
   "id": "12a52a27",
   "metadata": {},
   "outputs": [],
   "source": [
    "class Parent1():                                                  #parent class one\n",
    "    def assign_string_one(self,str1):\n",
    "        self.str1 = str1\n",
    "        \n",
    "    def show_string_one(self):\n",
    "        return self.str1\n",
    "    \n",
    "class Parent2():                                                 #parent class two\n",
    "    def assign_string_two(self,str2):\n",
    "        self.str2 = str2\n",
    "        \n",
    "    def show_string_two(self):\n",
    "        return self.str2\n",
    "    \n",
    "class Derived(Parent1, Parent2):                                  #child class\n",
    "    def assign_string_three(self,str3):\n",
    "        self.str3=str3\n",
    "        \n",
    "    def show_string_three(self):\n",
    "        return self.str3"
   ]
  },
  {
   "cell_type": "code",
   "execution_count": 51,
   "id": "b69c96e2",
   "metadata": {},
   "outputs": [
    {
     "name": "stdout",
     "output_type": "stream",
     "text": [
      "one\n",
      "two\n",
      "three\n"
     ]
    }
   ],
   "source": [
    "d1 = Derived()\n",
    "d1.assign_string_one(\"one\")\n",
    "d1.assign_string_two(\"two\")\n",
    "d1.assign_string_three(\"three\")                                  #instantiating object of child class\n",
    "\n",
    "print (d1.show_string_one())                                     #invoking methods\n",
    "print (d1.show_string_two())\n",
    "print (d1.show_string_three())"
   ]
  },
  {
   "cell_type": "markdown",
   "id": "62775bf2",
   "metadata": {},
   "source": [
    "# MULTI-LEVEL INHERITANCE \n",
    "**In multi-level inheritance, we have parent, child, grand-child relationship**"
   ]
  },
  {
   "cell_type": "code",
   "execution_count": 59,
   "id": "7a8f5ec7",
   "metadata": {},
   "outputs": [],
   "source": [
    "class Parent():                                           #parent class\n",
    "    def assign_name(self,name):\n",
    "        self.name = name\n",
    "        \n",
    "    def show_name(self):\n",
    "        return self.name\n",
    "    \n",
    "class Child(Parent):                                      #child class\n",
    "    def assign_age(self,age):\n",
    "        self.age = age\n",
    "        \n",
    "    def show_age(self):\n",
    "        return self.age\n",
    "        \n",
    "class GrandChild(Child):                                 #grand-child class\n",
    "    def assign_gender(self,gender):\n",
    "        self.gender = gender\n",
    "        \n",
    "    def show_gender(self):\n",
    "        return self.gender "
   ]
  },
  {
   "cell_type": "code",
   "execution_count": 61,
   "id": "5ae0a89d",
   "metadata": {},
   "outputs": [
    {
     "name": "stdout",
     "output_type": "stream",
     "text": [
      "AVINASH\n",
      "21\n",
      "Male\n"
     ]
    }
   ],
   "source": [
    "gc = GrandChild()\n",
    "gc.assign_name(\"AVINASH\")\n",
    "gc.assign_age(21)\n",
    "gc.assign_gender('Male')\n",
    "\n",
    "print (gc.show_name())\n",
    "print (gc.show_age())\n",
    "print (gc.show_gender()) "
   ]
  }
 ],
 "metadata": {
  "kernelspec": {
   "display_name": "Python 3",
   "language": "python",
   "name": "python3"
  },
  "language_info": {
   "codemirror_mode": {
    "name": "ipython",
    "version": 3
   },
   "file_extension": ".py",
   "mimetype": "text/x-python",
   "name": "python",
   "nbconvert_exporter": "python",
   "pygments_lexer": "ipython3",
   "version": "3.8.8"
  }
 },
 "nbformat": 4,
 "nbformat_minor": 5
}
